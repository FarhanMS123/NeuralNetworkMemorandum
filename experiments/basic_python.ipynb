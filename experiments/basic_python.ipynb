{
 "cells": [
  {
   "cell_type": "markdown",
   "metadata": {
    "colab_type": "text",
    "id": "view-in-github"
   },
   "source": [
    "<a href=\"https://colab.research.google.com/github/FarhanMS123/NeuralNetworkMemorandum/blob/main/experiments/test_python.ipynb\" target=\"_parent\"><img src=\"https://colab.research.google.com/assets/colab-badge.svg\" alt=\"Open In Colab\"/></a>"
   ]
  },
  {
   "cell_type": "markdown",
   "metadata": {
    "id": "2FOsj5bViewT",
    "jp-MarkdownHeadingCollapsed": true
   },
   "source": [
    "# Basic Python\n",
    "Ref:\n",
    "- https://udemy.com/course/python-for-data-science-and-machine-learning-bootcamp"
   ]
  },
  {
   "cell_type": "code",
   "execution_count": 2,
   "metadata": {
    "colab": {
     "base_uri": "https://localhost:8080/"
    },
    "id": "dFhmwKPUH_fS",
    "outputId": "03a1733f-7d3a-48dc-8b21-ea2e259c2db1"
   },
   "outputs": [
    {
     "name": "stdout",
     "output_type": "stream",
     "text": [
      "[2, 3, 4, 5, 2, 3, 4, 5, 2, 3, 4, 5]\n",
      "[2, 3, 4, 5, 2]\n",
      "[ 6  9 12 15]\n"
     ]
    }
   ],
   "source": [
    "import numpy as np\n",
    "\n",
    "print([2,3,4,5] * 3)\n",
    "# print([2,3,4,5] * [3])\n",
    "# print([2,3,4,5] + 2)\n",
    "print([2,3,4,5] + [2])\n",
    "# print([2,3,4,5] / 3)\n",
    "# print([2,3,4,5] / [2,3,4,5])\n",
    "print(np.array([2,3,4,5]) * 3)"
   ]
  },
  {
   "cell_type": "code",
   "execution_count": 3,
   "metadata": {
    "colab": {
     "base_uri": "https://localhost:8080/"
    },
    "id": "fiZnCHwQIjDj",
    "outputId": "46db470b-33ca-4dbb-8856-255ab9a001ca"
   },
   "outputs": [
    {
     "name": "stdout",
     "output_type": "stream",
     "text": [
      "True\n",
      "True\n"
     ]
    }
   ],
   "source": [
    "# print({2,3,3,3,2,2,3,4,5,4,4,4,5,5,5} + {7,7,7,7,2,2,2,3,3,3})\n",
    "# print({2,3,3,3,2,2,3,4,5,4,4,4,5,5,5} * 2)\n",
    "print(\"Hello\" == 'Hello')\n",
    "# print(False || True)\n",
    "print(False or True and True)"
   ]
  },
  {
   "cell_type": "code",
   "execution_count": 4,
   "metadata": {
    "colab": {
     "base_uri": "https://localhost:8080/"
    },
    "id": "dZqFxrvXhfEk",
    "outputId": "e119dc9d-3da3-4527-8c5f-580c0a4fb4e6"
   },
   "outputs": [
    {
     "name": "stdout",
     "output_type": "stream",
     "text": [
      "range(3, 12)\n",
      "[3, 4, 5, 6, 7, 8, 9, 10, 11]\n",
      "3\n",
      "4\n",
      "5\n",
      "6\n",
      "7\n",
      "8\n",
      "9\n",
      "10\n",
      "11\n",
      "[9, 16, 25, 36, 49, 64, 81, 100, 121]\n"
     ]
    }
   ],
   "source": [
    "seq = range(3,12)\n",
    "print(seq)\n",
    "print(list(seq))\n",
    "\n",
    "for x in seq:\n",
    "  print(x)\n",
    "\n",
    "list_comprehension = [x**2 for x in seq]\n",
    "print(list_comprehension)"
   ]
  },
  {
   "cell_type": "code",
   "execution_count": 5,
   "metadata": {
    "colab": {
     "base_uri": "https://localhost:8080/",
     "height": 139
    },
    "id": "acenDdPUi2mz",
    "outputId": "8ab6caa1-8f46-42cc-d98d-978fa4e3f746"
   },
   "outputs": [
    {
     "data": {
      "text/html": [
       "<div style=\"max-width:800px; border: 1px solid var(--colab-border-color);\"><style>\n",
       "      pre.function-repr-contents {\n",
       "        overflow-x: auto;\n",
       "        padding: 8px 12px;\n",
       "        max-height: 500px;\n",
       "      }\n",
       "\n",
       "      pre.function-repr-contents.function-repr-contents-collapsed {\n",
       "        cursor: pointer;\n",
       "        max-height: 100px;\n",
       "      }\n",
       "    </style>\n",
       "    <pre style=\"white-space: initial; background:\n",
       "         var(--colab-secondary-surface-color); padding: 8px 12px;\n",
       "         border-bottom: 1px solid var(--colab-border-color);\"><b>square</b><br/>def square(x)</pre><pre class=\"function-repr-contents function-repr-contents-collapsed\" style=\"\"><a class=\"filepath\" style=\"display:none\" href=\"#\">/content/&lt;ipython-input-5-fd57c3603c36&gt;</a>This is DOCSTRING\n",
       "Shift + Tab\n",
       "Ctrl + Space</pre></div>"
      ],
      "text/plain": [
       "<function __main__.square(x)>"
      ]
     },
     "execution_count": 5,
     "metadata": {},
     "output_type": "execute_result"
    }
   ],
   "source": [
    "def square(x):\n",
    "  \"\"\"\n",
    "  This is DOCSTRING\n",
    "  Shift + Tab\n",
    "  Ctrl + Space\n",
    "  \"\"\"\n",
    "  return x**2\n",
    "\n",
    "square"
   ]
  },
  {
   "cell_type": "code",
   "execution_count": 6,
   "metadata": {
    "colab": {
     "base_uri": "https://localhost:8080/",
     "height": 104
    },
    "id": "O8JznUI7k_Ou",
    "outputId": "87f0c693-d819-4cf2-d18f-c0e8b1c98fdb"
   },
   "outputs": [
    {
     "data": {
      "text/html": [
       "<div style=\"max-width:800px; border: 1px solid var(--colab-border-color);\"><style>\n",
       "      pre.function-repr-contents {\n",
       "        overflow-x: auto;\n",
       "        padding: 8px 12px;\n",
       "        max-height: 500px;\n",
       "      }\n",
       "\n",
       "      pre.function-repr-contents.function-repr-contents-collapsed {\n",
       "        cursor: pointer;\n",
       "        max-height: 100px;\n",
       "      }\n",
       "    </style>\n",
       "    <pre style=\"white-space: initial; background:\n",
       "         var(--colab-secondary-surface-color); padding: 8px 12px;\n",
       "         border-bottom: 1px solid var(--colab-border-color);\"><b>square2</b><br/>def square2(x)</pre><pre class=\"function-repr-contents function-repr-contents-collapsed\" style=\"\"><a class=\"filepath\" style=\"display:none\" href=\"#\">/content/&lt;ipython-input-6-58d88f427afd&gt;</a>&lt;no docstring&gt;</pre></div>"
      ],
      "text/plain": [
       "<function __main__.square2(x)>"
      ]
     },
     "execution_count": 6,
     "metadata": {},
     "output_type": "execute_result"
    }
   ],
   "source": [
    "def square2(x):\n",
    "  return x**2\n",
    "square2"
   ]
  },
  {
   "cell_type": "code",
   "execution_count": 7,
   "metadata": {
    "colab": {
     "base_uri": "https://localhost:8080/"
    },
    "id": "h1SFPniUj9aH",
    "outputId": "4f4da9a5-814f-4a66-d8fe-afd2621b6717"
   },
   "outputs": [
    {
     "data": {
      "text/plain": [
       "<function __main__.<lambda>(x)>"
      ]
     },
     "execution_count": 7,
     "metadata": {},
     "output_type": "execute_result"
    }
   ],
   "source": [
    "\"\"\"\n",
    "This is DOCSTRING\n",
    "Shift + Tab\n",
    "Ctrl + Space\n",
    "\"\"\"\n",
    "square = lambda x: x**2\n",
    "square"
   ]
  },
  {
   "cell_type": "code",
   "execution_count": 8,
   "metadata": {
    "colab": {
     "base_uri": "https://localhost:8080/"
    },
    "id": "IAXv5WwXkL9T",
    "outputId": "65e033ac-231b-4cb9-d063-3dedfbc39f49"
   },
   "outputs": [
    {
     "name": "stdout",
     "output_type": "stream",
     "text": [
      "4\n",
      "True\n",
      "2 1\n",
      "4 3\n",
      "6 5\n"
     ]
    }
   ],
   "source": [
    "def abcd(): return 2**2\n",
    "print(abcd())\n",
    "print(2 in [1,2,3,4])\n",
    "\n",
    "for a,b in [(1,2),(3,4),(5,6)]:\n",
    "  print(b,a)"
   ]
  },
  {
   "cell_type": "markdown",
   "metadata": {
    "id": "pandgayvoHr_",
    "jp-MarkdownHeadingCollapsed": true
   },
   "source": [
    "# Test NumPy"
   ]
  },
  {
   "cell_type": "code",
   "execution_count": 19,
   "metadata": {
    "colab": {
     "base_uri": "https://localhost:8080/"
    },
    "id": "EimG2rRmoLJD",
    "outputId": "ad8d0beb-7717-49ac-c0ae-54b2a91d92ec"
   },
   "outputs": [
    {
     "name": "stdout",
     "output_type": "stream",
     "text": [
      "[ 2.   3.1  4.2  5.3  6.4  7.5  8.6  9.7 10.8 11.9]\n",
      "[0. 0. 0. 0.]\n",
      "[1. 1. 1. 1.]\n",
      "[2.         2.01010101 2.02020202 2.03030303 2.04040404 2.05050505\n",
      " 2.06060606 2.07070707 2.08080808 2.09090909 2.1010101  2.11111111\n",
      " 2.12121212 2.13131313 2.14141414 2.15151515 2.16161616 2.17171717\n",
      " 2.18181818 2.19191919 2.2020202  2.21212121 2.22222222 2.23232323\n",
      " 2.24242424 2.25252525 2.26262626 2.27272727 2.28282828 2.29292929\n",
      " 2.3030303  2.31313131 2.32323232 2.33333333 2.34343434 2.35353535\n",
      " 2.36363636 2.37373737 2.38383838 2.39393939 2.4040404  2.41414141\n",
      " 2.42424242 2.43434343 2.44444444 2.45454545 2.46464646 2.47474747\n",
      " 2.48484848 2.49494949 2.50505051 2.51515152 2.52525253 2.53535354\n",
      " 2.54545455 2.55555556 2.56565657 2.57575758 2.58585859 2.5959596\n",
      " 2.60606061 2.61616162 2.62626263 2.63636364 2.64646465 2.65656566\n",
      " 2.66666667 2.67676768 2.68686869 2.6969697  2.70707071 2.71717172\n",
      " 2.72727273 2.73737374 2.74747475 2.75757576 2.76767677 2.77777778\n",
      " 2.78787879 2.7979798  2.80808081 2.81818182 2.82828283 2.83838384\n",
      " 2.84848485 2.85858586 2.86868687 2.87878788 2.88888889 2.8989899\n",
      " 2.90909091 2.91919192 2.92929293 2.93939394 2.94949495 2.95959596\n",
      " 2.96969697 2.97979798 2.98989899 3.        ]\n"
     ]
    }
   ],
   "source": [
    "import numpy as np\n",
    "print(np.arange(2,12,1.1))\n",
    "print(np.zeros(4))\n",
    "print(np.ones(4))\n",
    "print(np.linspace(2,3,100))"
   ]
  },
  {
   "cell_type": "code",
   "execution_count": 23,
   "metadata": {
    "colab": {
     "base_uri": "https://localhost:8080/"
    },
    "id": "EAAeP11Do3u1",
    "outputId": "20a80a26-f9cd-47fb-92ba-a01ac87cc34f"
   },
   "outputs": [
    {
     "name": "stdout",
     "output_type": "stream",
     "text": [
      "[[[-0.27519263 -0.90281689 -0.83661485  0.57140059]\n",
      "  [ 1.79975154  2.02040544 -0.40077441 -0.19948516]\n",
      "  [ 1.54521215 -0.16634643  0.10123841 -0.97421869]]\n",
      "\n",
      " [[ 0.14952664 -1.24584564  0.67562763 -1.6009643 ]\n",
      "  [-2.10873066  0.26708976 -0.71231891  0.7773374 ]\n",
      "  [ 0.44693066 -0.06728871  1.22701707  0.12082278]]]\n",
      "2.0204054429439977\n",
      "5\n"
     ]
    }
   ],
   "source": [
    "c = np.random.randn(2,3,4)\n",
    "print(c)\n",
    "print(c.max())\n",
    "print(c.argmax())\n",
    "print(c[8])"
   ]
  },
  {
   "cell_type": "code",
   "execution_count": 25,
   "metadata": {
    "id": "5FWAXA9tq69S"
   },
   "outputs": [],
   "source": [
    "d = np.array([1,2,3,4,5])\n",
    "# d.reshape(3,3)"
   ]
  },
  {
   "cell_type": "code",
   "execution_count": 38,
   "metadata": {
    "colab": {
     "base_uri": "https://localhost:8080/"
    },
    "id": "3s5-F8zmrxq3",
    "outputId": "572f3118-aad9-47e4-c248-50bccd7bb370"
   },
   "outputs": [
    {
     "name": "stdout",
     "output_type": "stream",
     "text": [
      "[0, 1, 2, 3, 4, 5, 6, 7, 8, 9, 10, 11, 12, 13, 14, 15, 16, 17, 18, 19]\n",
      "[ 0  1  2  3  4  5  6  7  8  9 10 11 12 13 14 15 16 17 18 19]\n",
      "[ 7  8  9 10 11 12 13 14 15 16 17]\n",
      "[7, 8, 9, 10, 11, 12, 13, 14, 15, 16, 17]\n"
     ]
    }
   ],
   "source": [
    "c = list(range(0,20))\n",
    "d = np.arange(0, 20)\n",
    "print(c)\n",
    "print(d)\n",
    "print(d[7:18])\n",
    "print(c[7:18])\n",
    "# a = 3:12\n",
    "# print(3:12)"
   ]
  },
  {
   "cell_type": "code",
   "execution_count": 44,
   "metadata": {
    "colab": {
     "base_uri": "https://localhost:8080/"
    },
    "id": "fxON6MqbtA5D",
    "outputId": "2ac9be93-91bd-47ef-f875-6030b0e8b29f"
   },
   "outputs": [
    {
     "name": "stdout",
     "output_type": "stream",
     "text": [
      "[[7, 8, 9, 10, 11], [12, 13, 14, 15, 16], [19, 20, 21, 22, 23], [28, 29, 30, 31, 32], [39, 40, 41, 42, 43], [52, 53, 54, 55, 56], [67, 68, 69, 70, 71], [84, 85, 86, 87, 88], [103, 104, 105, 106, 107]]\n",
      "[[19, 20, 21, 22, 23], [28, 29, 30, 31, 32]]\n",
      "[[28, 29, 30, 31, 32], [39, 40, 41, 42, 43], [52, 53, 54, 55, 56]]\n",
      "=====\n",
      "[[51681 11056 38357 34673]\n",
      " [ 9933 27620 40817 46173]\n",
      " [36298 41359 30700 43981]\n",
      " [39726 29964 27359 52033]]\n",
      "[[36298 41359 30700]\n",
      " [39726 29964 27359]]\n",
      "40817\n",
      "39726\n",
      "====\n",
      "[ True  True  True  True False False False False False]\n"
     ]
    }
   ],
   "source": [
    "c = [\n",
    "  list(range(3+(x*x), 8+(x*x))) for x in range(2,11)\n",
    "]\n",
    "\n",
    "print(c)\n",
    "print(c[2:4])\n",
    "# print(c[2][2,3])\n",
    "# print(c[2:4][0,1])\n",
    "print(c[3:6])\n",
    "\n",
    "print(\"=====\")\n",
    "\n",
    "d = np.random.randint(7,52256, (4,4))\n",
    "print(d)\n",
    "print(d[2:4, 0:3])\n",
    "print(d[1,2])\n",
    "print(d[2:4][1,0])\n",
    "\n",
    "print(\"====\")\n",
    "# print([2,3,4,5,6,7,8,9,10] < 6)\n",
    "print(np.array([2,3,4,5,6,7,8,9,10]) < 6)"
   ]
  },
  {
   "cell_type": "code",
   "execution_count": 99,
   "metadata": {
    "colab": {
     "base_uri": "https://localhost:8080/"
    },
    "id": "f6Ds0ac934HJ",
    "outputId": "1692abce-9df2-4c30-8128-af32392baf13"
   },
   "outputs": [
    {
     "name": "stdout",
     "output_type": "stream",
     "text": [
      "[2, 3, 4, 5, 6, 7]\n",
      "[ 7  9 11]\n",
      "[-3 -3 -3]\n",
      "[10 18 28]\n"
     ]
    }
   ],
   "source": [
    "print([2,3,4] + [5,6,7])\n",
    "print(np.array([2,3,4]) + np.array([5,6,7]))\n",
    "# print([2,3,4] - [5,6,7])\n",
    "print(np.array([2,3,4]) - np.array([5,6,7]))\n",
    "# print([2,3,4] * [5,6,7])\n",
    "print(np.array([2,3,4]) * np.array([5,6,7]))"
   ]
  },
  {
   "cell_type": "markdown",
   "metadata": {
    "id": "qCltAoDn6DZE"
   },
   "source": [
    "- https://numpy.org/doc/stable/reference/ufuncs.html\n",
    "- https://docs.conda.io/projects/conda/en/latest/user-guide/tasks/manage-environments.html"
   ]
  },
  {
   "cell_type": "code",
   "execution_count": 111,
   "metadata": {
    "colab": {
     "base_uri": "https://localhost:8080/"
    },
    "id": "-20OyhVj4pN6",
    "outputId": "019c0d9e-5da3-4ec7-e181-25d651adcb7b"
   },
   "outputs": [
    {
     "name": "stdout",
     "output_type": "stream",
     "text": [
      "[102 103 104]\n",
      "[-98 -97 -96]\n",
      "[2, 3, 4, 2, 3, 4, 2, 3, 4, 2, 3, 4]\n",
      "[200 300 400]\n",
      "[  32  243 1024]\n"
     ]
    }
   ],
   "source": [
    "# print([2,3,4] + 100)\n",
    "print(np.array([2,3,4]) + 100)\n",
    "# print([2,3,4] - 100)\n",
    "print(np.array([2,3,4]) - 100)\n",
    "print([2,3,4] * 4)\n",
    "print(np.array([2,3,4]) * 100)\n",
    "# print([2,3,4] ** 5)\n",
    "print(np.array([2,3,4]) ** 5)"
   ]
  },
  {
   "cell_type": "code",
   "execution_count": null,
   "metadata": {
    "id": "WC4WDlll-kJ5"
   },
   "outputs": [],
   "source": [
    "np.std\n",
    "np.sum"
   ]
  },
  {
   "cell_type": "markdown",
   "metadata": {
    "jp-MarkdownHeadingCollapsed": true
   },
   "source": [
    "# Basic Pandas"
   ]
  },
  {
   "cell_type": "code",
   "execution_count": 5,
   "metadata": {},
   "outputs": [],
   "source": [
    "import numpy as np\n",
    "import pandas as pd"
   ]
  },
  {
   "cell_type": "code",
   "execution_count": 2,
   "metadata": {},
   "outputs": [],
   "source": [
    "labels = ['a', 'b', 'c']\n",
    "my_data = [10, 20, 30]\n",
    "aee = np.array(my_data)\n",
    "d = {\n",
    "    'a': 10,\n",
    "    'b': 20,\n",
    "    'c': 30\n",
    "}"
   ]
  },
  {
   "cell_type": "code",
   "execution_count": 6,
   "metadata": {},
   "outputs": [
    {
     "data": {
      "text/plain": [
       "a    17\n",
       "b    27\n",
       "c    37\n",
       "dtype: int64"
      ]
     },
     "execution_count": 6,
     "metadata": {},
     "output_type": "execute_result"
    }
   ],
   "source": [
    "ser1 = pd.Series(my_data, labels)\n",
    "ser1 + 7"
   ]
  },
  {
   "cell_type": "code",
   "execution_count": 9,
   "metadata": {},
   "outputs": [
    {
     "data": {
      "text/plain": [
       "array([[ 2.70684984,  0.62813271,  0.90796945,  0.50382575],\n",
       "       [ 0.65111795, -0.31931804, -0.84807698,  0.60596535],\n",
       "       [-2.01816824,  0.74012206,  0.52881349, -0.58900053],\n",
       "       [ 0.18869531, -0.75887206, -0.93323722,  0.95505651],\n",
       "       [ 0.19079432,  1.97875732,  2.60596728,  0.68350889]])"
      ]
     },
     "execution_count": 9,
     "metadata": {},
     "output_type": "execute_result"
    }
   ],
   "source": [
    "np.random.seed(101)\n",
    "np.random.randn(5,4)"
   ]
  },
  {
   "cell_type": "code",
   "execution_count": 40,
   "metadata": {},
   "outputs": [
    {
     "name": "stdout",
     "output_type": "stream",
     "text": [
      "          W         X         Y         Z\n",
      "A -1.975561 -1.746010 -1.905228 -0.271117\n",
      "B  0.278761 -0.664855  1.119901 -0.297896\n",
      "C  0.822210 -0.434672 -0.192274  2.144336\n",
      "D  0.601143 -0.249884  0.146623 -1.749671\n",
      "E  1.082361  0.103183  0.130141  0.198255\n",
      "A   -1.746010\n",
      "B   -0.664855\n",
      "C   -0.434672\n",
      "D   -0.249884\n",
      "E    0.103183\n",
      "Name: X, dtype: float64\n",
      "A   -1.746010\n",
      "B   -0.664855\n",
      "C   -0.434672\n",
      "D   -0.249884\n",
      "E    0.103183\n",
      "Name: X, dtype: float64\n",
      "-1.746009901965017\n",
      "          X         Y\n",
      "A -1.746010 -1.905228\n",
      "B -0.664855  1.119901\n",
      "C -0.434672 -0.192274\n",
      "D -0.249884  0.146623\n",
      "E  0.103183  0.130141\n",
      "(5, 4)\n"
     ]
    }
   ],
   "source": [
    "# pd.DataFrame(np.random.randn(3,3,3), ['A', 'B', 'C'], ['X', 'Y', 'Z'])\n",
    "ser = pd.DataFrame(np.random.randn(5,4), ['A', 'B', 'C', 'D', 'E'], ['W', 'X', 'Y', 'Z'])\n",
    "print(ser)\n",
    "# print(ser['A'])\n",
    "print(ser['X'])\n",
    "# print(ser[1])\n",
    "print(ser.X)\n",
    "print(ser['X']['A'])\n",
    "# print(ser['X','A'])\n",
    "# print(ser['X','Y'])\n",
    "print(ser[['X','Y']])\n",
    "# print(ser['X'])\n",
    "print(ser.shape)"
   ]
  },
  {
   "cell_type": "code",
   "execution_count": 34,
   "metadata": {},
   "outputs": [
    {
     "name": "stdout",
     "output_type": "stream",
     "text": [
      "W   -0.273343\n",
      "X   -0.220944\n",
      "Y    0.686967\n",
      "Z   -1.154717\n",
      "Name: B, dtype: float64\n",
      "W   -0.273343\n",
      "X   -0.220944\n",
      "Y    0.686967\n",
      "Z   -1.154717\n",
      "Name: B, dtype: float64\n",
      "0.6869666375167397\n",
      "          Y         Z\n",
      "B  0.686967 -1.154717\n",
      "C -0.001107  1.874769\n",
      "D  1.062296  0.229439\n",
      "          Y         Z\n",
      "B  0.686967 -1.154717\n",
      "C -0.001107  1.874769\n"
     ]
    }
   ],
   "source": [
    "print(ser.loc['B'])\n",
    "print(ser.iloc[1])\n",
    "print(ser.loc['B','Y'])\n",
    "print(ser.loc['B':'D','Y':'Z'])\n",
    "print(ser.loc[['B','C'],['Y', 'Z']])"
   ]
  },
  {
   "cell_type": "code",
   "execution_count": 42,
   "metadata": {},
   "outputs": [
    {
     "name": "stdout",
     "output_type": "stream",
     "text": [
      "       W      X      Y      Z\n",
      "A  False  False  False  False\n",
      "B   True  False   True  False\n",
      "C   True  False  False   True\n",
      "D   True  False   True  False\n",
      "E   True   True   True   True\n",
      "          W         X         Y         Z\n",
      "A       NaN       NaN       NaN       NaN\n",
      "B  0.278761       NaN  1.119901       NaN\n",
      "C  0.822210       NaN       NaN  2.144336\n",
      "D  0.601143       NaN  0.146623       NaN\n",
      "E  1.082361  0.103183  0.130141  0.198255\n",
      "\n",
      "A    False\n",
      "B     True\n",
      "C     True\n",
      "D     True\n",
      "E     True\n",
      "Name: W, dtype: bool\n",
      "          W         X         Y         Z\n",
      "B  0.278761 -0.664855  1.119901 -0.297896\n",
      "C  0.822210 -0.434672 -0.192274  2.144336\n",
      "D  0.601143 -0.249884  0.146623 -1.749671\n",
      "E  1.082361  0.103183  0.130141  0.198255\n"
     ]
    }
   ],
   "source": [
    "print(ser > 0)\n",
    "print(ser[ser > 0])\n",
    "print()\n",
    "print(ser['W'] > 0)\n",
    "print(ser[ser['W'] > 0])"
   ]
  },
  {
   "cell_type": "markdown",
   "metadata": {},
   "source": [
    "## Higher Hirarchy"
   ]
  },
  {
   "cell_type": "code",
   "execution_count": 6,
   "metadata": {},
   "outputs": [],
   "source": [
    "# Index Levels\n",
    "outside = ['G1','G1','G1','G2','G2','G2']\n",
    "inside = [1,2,3,1,2,3]\n",
    "hier_index_zip = list(zip(outside,inside))\n",
    "hier_index = pd.MultiIndex.from_tuples(hier_index_zip)"
   ]
  },
  {
   "cell_type": "code",
   "execution_count": 11,
   "metadata": {},
   "outputs": [
    {
     "name": "stdout",
     "output_type": "stream",
     "text": [
      "[('G1', 1), ('G1', 2), ('G1', 3), ('G2', 1), ('G2', 2), ('G2', 3)]\n"
     ]
    },
    {
     "data": {
      "text/html": [
       "<div>\n",
       "<style scoped>\n",
       "    .dataframe tbody tr th:only-of-type {\n",
       "        vertical-align: middle;\n",
       "    }\n",
       "\n",
       "    .dataframe tbody tr th {\n",
       "        vertical-align: top;\n",
       "    }\n",
       "\n",
       "    .dataframe thead th {\n",
       "        text-align: right;\n",
       "    }\n",
       "</style>\n",
       "<table border=\"1\" class=\"dataframe\">\n",
       "  <thead>\n",
       "    <tr style=\"text-align: right;\">\n",
       "      <th></th>\n",
       "      <th></th>\n",
       "      <th>A</th>\n",
       "      <th>B</th>\n",
       "    </tr>\n",
       "  </thead>\n",
       "  <tbody>\n",
       "    <tr>\n",
       "      <th rowspan=\"3\" valign=\"top\">G1</th>\n",
       "      <th>1</th>\n",
       "      <td>-0.612011</td>\n",
       "      <td>0.578059</td>\n",
       "    </tr>\n",
       "    <tr>\n",
       "      <th>2</th>\n",
       "      <td>0.767272</td>\n",
       "      <td>0.622372</td>\n",
       "    </tr>\n",
       "    <tr>\n",
       "      <th>3</th>\n",
       "      <td>-1.487161</td>\n",
       "      <td>1.697693</td>\n",
       "    </tr>\n",
       "    <tr>\n",
       "      <th rowspan=\"3\" valign=\"top\">G2</th>\n",
       "      <th>1</th>\n",
       "      <td>-0.251855</td>\n",
       "      <td>0.225562</td>\n",
       "    </tr>\n",
       "    <tr>\n",
       "      <th>2</th>\n",
       "      <td>-0.395082</td>\n",
       "      <td>-1.821441</td>\n",
       "    </tr>\n",
       "    <tr>\n",
       "      <th>3</th>\n",
       "      <td>-1.118749</td>\n",
       "      <td>-0.871049</td>\n",
       "    </tr>\n",
       "  </tbody>\n",
       "</table>\n",
       "</div>"
      ],
      "text/plain": [
       "             A         B\n",
       "G1 1 -0.612011  0.578059\n",
       "   2  0.767272  0.622372\n",
       "   3 -1.487161  1.697693\n",
       "G2 1 -0.251855  0.225562\n",
       "   2 -0.395082 -1.821441\n",
       "   3 -1.118749 -0.871049"
      ]
     },
     "execution_count": 11,
     "metadata": {},
     "output_type": "execute_result"
    }
   ],
   "source": [
    "print(hier_index_zip)\n",
    "df = pd.DataFrame(np.random.randn(6,2), hier_index, ['A','B'])\n",
    "df"
   ]
  },
  {
   "cell_type": "code",
   "execution_count": 28,
   "metadata": {},
   "outputs": [
    {
     "name": "stdout",
     "output_type": "stream",
     "text": [
      "G1  1   -0.612011\n",
      "    2    0.767272\n",
      "    3   -1.487161\n",
      "G2  1   -0.251855\n",
      "    2   -0.395082\n",
      "    3   -1.118749\n",
      "Name: A, dtype: float64\n",
      "          A         B\n",
      "1 -0.612011  0.578059\n",
      "2  0.767272  0.622372\n",
      "3 -1.487161  1.697693\n",
      "1   -0.612011\n",
      "2    0.767272\n",
      "3   -1.487161\n",
      "Name: A, dtype: float64\n",
      "-0.6120109664799464\n",
      "-0.6120109664799464\n",
      "           A         B\n",
      "G1 -0.612011  0.578059\n",
      "G2 -0.251855  0.225562\n"
     ]
    }
   ],
   "source": [
    "print(df['A'])\n",
    "# print(df['A','G1'])\n",
    "print(df.loc['G1'])\n",
    "print(df.loc['G1','A'])\n",
    "print(df.loc['G1','A'][1])\n",
    "print(df.loc['G1'].loc[1,'A'])\n",
    "print(df.xs(1, level=1))"
   ]
  },
  {
   "cell_type": "code",
   "execution_count": 39,
   "metadata": {},
   "outputs": [],
   "source": [
    "import pandas as pd\n",
    "# Create dataframe\n",
    "data = {'Company':['GOOG','GOOG','MSFT','MSFT','FB','FB'],\n",
    "       'Person':['Sam','Charlie','Amy','Vanessa','Carl','Sarah'],\n",
    "       'Sales':[200,120,340,124,243,350]}"
   ]
  },
  {
   "cell_type": "code",
   "execution_count": 48,
   "metadata": {},
   "outputs": [
    {
     "name": "stdout",
     "output_type": "stream",
     "text": [
      "  Company   Person  Sales\n",
      "0    GOOG      Sam    200\n",
      "1    GOOG  Charlie    120\n",
      "2    MSFT      Amy    340\n",
      "3    MSFT  Vanessa    124\n",
      "4      FB     Carl    243\n",
      "5      FB    Sarah    350\n",
      "[('FB',   Company Person  Sales\n",
      "4      FB   Carl    243\n",
      "5      FB  Sarah    350), ('GOOG',   Company   Person  Sales\n",
      "0    GOOG      Sam    200\n",
      "1    GOOG  Charlie    120), ('MSFT',   Company   Person  Sales\n",
      "2    MSFT      Amy    340\n",
      "3    MSFT  Vanessa    124)]\n",
      "        Sales                                                        \n",
      "        count   mean         std    min     25%    50%     75%    max\n",
      "Company                                                              \n",
      "FB        2.0  296.5   75.660426  243.0  269.75  296.5  323.25  350.0\n",
      "GOOG      2.0  160.0   56.568542  120.0  140.00  160.0  180.00  200.0\n",
      "MSFT      2.0  232.0  152.735065  124.0  178.00  232.0  286.00  340.0\n"
     ]
    }
   ],
   "source": [
    "df = pd.DataFrame(data)\n",
    "print(df)\n",
    "\n",
    "gb = df.groupby('Company')\n",
    "print(list(gb))\n",
    "# print(gb.mean(numeric_only=True))\n",
    "# print(gb.sum(numeric_only=True))\n",
    "# print(gb.std(numeric_only=True))\n",
    "# print(gb.count())\n",
    "# print(gb.max())\n",
    "# print(gb.describe().transpose())\n",
    "print(gb.describe())"
   ]
  },
  {
   "cell_type": "code",
   "execution_count": null,
   "metadata": {},
   "outputs": [
    {
     "name": "stdout",
     "output_type": "stream",
     "text": [
      "      A    B    C    D\n",
      "0    A0   B0   C0   D0\n",
      "1    A1   B1   C1   D1\n",
      "2    A2   B2   C2   D2\n",
      "3    A3   B3   C3   D3\n",
      "4    A4   B4   C4   D4\n",
      "5    A5   B5   C5   D5\n",
      "6    A6   B6   C6   D6\n",
      "7    A7   B7   C7   D7\n",
      "8    A8   B8   C8   D8\n",
      "9    A9   B9   C9   D9\n",
      "10  A10  B10  C10  D10\n",
      "11  A11  B11  C11  D11\n",
      "      A    B    C    D    A    B    C    D    A    B    C    D\n",
      "0    A0   B0   C0   D0  NaN  NaN  NaN  NaN  NaN  NaN  NaN  NaN\n",
      "1    A1   B1   C1   D1  NaN  NaN  NaN  NaN  NaN  NaN  NaN  NaN\n",
      "2    A2   B2   C2   D2  NaN  NaN  NaN  NaN  NaN  NaN  NaN  NaN\n",
      "3    A3   B3   C3   D3  NaN  NaN  NaN  NaN  NaN  NaN  NaN  NaN\n",
      "4   NaN  NaN  NaN  NaN   A4   B4   C4   D4  NaN  NaN  NaN  NaN\n",
      "5   NaN  NaN  NaN  NaN   A5   B5   C5   D5  NaN  NaN  NaN  NaN\n",
      "6   NaN  NaN  NaN  NaN   A6   B6   C6   D6  NaN  NaN  NaN  NaN\n",
      "7   NaN  NaN  NaN  NaN   A7   B7   C7   D7  NaN  NaN  NaN  NaN\n",
      "8   NaN  NaN  NaN  NaN  NaN  NaN  NaN  NaN   A8   B8   C8   D8\n",
      "9   NaN  NaN  NaN  NaN  NaN  NaN  NaN  NaN   A9   B9   C9   D9\n",
      "10  NaN  NaN  NaN  NaN  NaN  NaN  NaN  NaN  A10  B10  C10  D10\n",
      "11  NaN  NaN  NaN  NaN  NaN  NaN  NaN  NaN  A11  B11  C11  D11\n"
     ]
    }
   ],
   "source": [
    "import pandas as pd\n",
    "\n",
    "df1 = pd.DataFrame({'A': ['A0', 'A1', 'A2', 'A3'],\n",
    "                        'B': ['B0', 'B1', 'B2', 'B3'],\n",
    "                        'C': ['C0', 'C1', 'C2', 'C3'],\n",
    "                        'D': ['D0', 'D1', 'D2', 'D3']},\n",
    "                        index=[0, 1, 2, 3])\n",
    "\n",
    "df2 = pd.DataFrame({'A': ['A4', 'A5', 'A6', 'A7'],\n",
    "                        'B': ['B4', 'B5', 'B6', 'B7'],\n",
    "                        'C': ['C4', 'C5', 'C6', 'C7'],\n",
    "                        'D': ['D4', 'D5', 'D6', 'D7']},\n",
    "                         index=[4, 5, 6, 7]) \n",
    "\n",
    "df3 = pd.DataFrame({'A': ['A8', 'A9', 'A10', 'A11'],\n",
    "                        'B': ['B8', 'B9', 'B10', 'B11'],\n",
    "                        'C': ['C8', 'C9', 'C10', 'C11'],\n",
    "                        'D': ['D8', 'D9', 'D10', 'D11']},\n",
    "                        index=[8, 9, 10, 11])\n",
    "\n",
    "print(pd.concat([df1,df2,df3]))\n",
    "# print(pd.concat([df1,df2,df3], axis=1))"
   ]
  },
  {
   "cell_type": "code",
   "execution_count": 3,
   "metadata": {},
   "outputs": [
    {
     "name": "stdout",
     "output_type": "stream",
     "text": [
      "   col1  col2 col3\n",
      "0     1   444  abc\n",
      "1     2   555  def\n",
      "2     3   666  ghi\n",
      "3     4   444  xyz\n",
      "   col1  col2 col3\n",
      "0     1   444  abc\n",
      "1     2   555  def\n",
      "2     3   666  ghi\n",
      "3     4   444  xyz\n",
      "\n",
      "[444 555 666]\n",
      "3\n",
      "col2\n",
      "444    2\n",
      "555    1\n",
      "666    1\n",
      "Name: count, dtype: int64\n",
      "\n",
      "0    False\n",
      "1    False\n",
      "2    False\n",
      "3     True\n",
      "dtype: bool\n",
      "   col1  col2 col3\n",
      "3     4   444  xyz\n",
      "\n",
      "0    2\n",
      "1    4\n",
      "2    6\n",
      "3    8\n",
      "Name: col1, dtype: int64\n",
      "20\n"
     ]
    }
   ],
   "source": [
    "import pandas as pd\n",
    "df = pd.DataFrame({'col1':[1,2,3,4],'col2':[444,555,666,444],'col3':['abc','def','ghi','xyz']})\n",
    "\n",
    "print(df)\n",
    "print(df.head())\n",
    "print()\n",
    "print(df['col2'].unique())\n",
    "print(df['col2'].nunique())\n",
    "print(df['col2'].value_counts())\n",
    "print()\n",
    "print((df['col1'] > 2) & (df['col2'] == 444))\n",
    "print(df[(df['col1'] > 2) & (df['col2'] == 444)])\n",
    "print()\n",
    "print(df['col1'].apply(lambda x: x * 2))\n",
    "print(df['col1'].apply(lambda x: x * 2).sum())"
   ]
  },
  {
   "cell_type": "code",
   "execution_count": 4,
   "metadata": {},
   "outputs": [
    {
     "name": "stdout",
     "output_type": "stream",
     "text": [
      "     A    B  C  D\n",
      "0  foo  one  x  1\n",
      "1  foo  one  y  3\n",
      "2  foo  two  x  2\n",
      "3  bar  two  y  5\n",
      "4  bar  one  x  4\n",
      "5  bar  one  y  1\n",
      "\n",
      "C          x    y\n",
      "A   B            \n",
      "bar one  4.0  1.0\n",
      "    two  NaN  5.0\n",
      "foo one  1.0  3.0\n",
      "    two  2.0  NaN\n"
     ]
    }
   ],
   "source": [
    "data = {'A':['foo','foo','foo','bar','bar','bar'],\n",
    "     'B':['one','one','two','two','one','one'],\n",
    "       'C':['x','y','x','y','x','y'],\n",
    "       'D':[1,3,2,5,4,1]}\n",
    "\n",
    "df = pd.DataFrame(data)\n",
    "\n",
    "print(df)\n",
    "print()\n",
    "print(df.pivot_table(values='D', index=['A', 'B'], columns=['C']))"
   ]
  },
  {
   "cell_type": "markdown",
   "metadata": {},
   "source": [
    "## Input & Output"
   ]
  },
  {
   "cell_type": "code",
   "execution_count": null,
   "metadata": {},
   "outputs": [
    {
     "data": {
      "text/plain": [
       "'c:\\\\Users\\\\farha\\\\Downloads\\\\project\\\\NeuralNetworkMemorandum\\\\experiments'"
      ]
     },
     "execution_count": 2,
     "metadata": {},
     "output_type": "execute_result"
    }
   ],
   "source": [
    "%pwd\n",
    "# %conda install xlrd\n",
    "# %conda install sqlalchemy\n",
    "# %conda install lxml\n",
    "# %conda install html5lib\n",
    "# %conda install BeautifulSoup4"
   ]
  },
  {
   "cell_type": "code",
   "execution_count": 18,
   "metadata": {},
   "outputs": [
    {
     "name": "stdout",
     "output_type": "stream",
     "text": [
      "    a   b   c   d\n",
      "0   0   1   2   3\n",
      "1   4   5   6   7\n",
      "2   8   9  10  11\n",
      "3  12  13  14  15\n",
      "    a   b   c   d\n",
      "0   0   1   2   3\n",
      "1   4   5   6   7\n",
      "2   8   9  10  11\n",
      "3  12  13  14  15\n",
      "   Unnamed: 0   a   b   c   d\n",
      "0           0   0   1   2   3\n",
      "1           1   4   5   6   7\n",
      "2           2   8   9  10  11\n",
      "3           3  12  13  14  15\n",
      "   Unnamed: 0   a   b   c   d\n",
      "0           0   0   1   2   3\n",
      "1           1   4   5   6   7\n",
      "2           2   8   9  10  11\n",
      "3           3  12  13  14  15\n"
     ]
    }
   ],
   "source": [
    "import pandas as pd\n",
    "\n",
    "df = pd.read_csv('example.csv')\n",
    "print(df)\n",
    "\n",
    "df.to_csv(\"._temp_output_test1.csv\", index=False)\n",
    "print(pd.read_csv(\"._temp_output_test1.csv\"))\n",
    "\n",
    "df.to_csv(\"._temp_output_test2.csv\")\n",
    "print(pd.read_csv(\"._temp_output_test2.csv\"))\n",
    "\n",
    "df_xlsx = pd.read_excel(\"Excel_Sample.xlsx\", sheet_name='Sheet1')\n",
    "print(df_xlsx)"
   ]
  },
  {
   "cell_type": "code",
   "execution_count": 16,
   "metadata": {},
   "outputs": [
    {
     "name": "stdout",
     "output_type": "stream",
     "text": [
      "[                               Bank Name               City          State  \\\n",
      "0     The First National Bank of Lindsay            Lindsay       Oklahoma   \n",
      "1  Republic First Bank dba Republic Bank       Philadelphia   Pennsylvania   \n",
      "2                          Citizens Bank           Sac City           Iowa   \n",
      "3               Heartland Tri-State Bank            Elkhart         Kansas   \n",
      "4                    First Republic Bank      San Francisco     California   \n",
      "5                         Signature Bank           New York       New York   \n",
      "6                    Silicon Valley Bank        Santa Clara     California   \n",
      "7                      Almena State Bank             Almena         Kansas   \n",
      "8             First City Bank of Florida  Fort Walton Beach        Florida   \n",
      "9                   The First State Bank      Barboursville  West Virginia   \n",
      "\n",
      "    Cert                 Aquiring Institution      Closing Date  \\\n",
      "0   4134   First Bank & Trust Co., Duncan, OK  October 18, 2024   \n",
      "1  27332    Fulton Bank, National Association    April 26, 2024   \n",
      "2   8758            Iowa Trust & Savings Bank  November 3, 2023   \n",
      "3  25851               Dream First Bank, N.A.     July 28, 2023   \n",
      "4  59017            JPMorgan Chase Bank, N.A.       May 1, 2023   \n",
      "5  57053                  Flagstar Bank, N.A.    March 12, 2023   \n",
      "6  24735  First Citizens Bank & Trust Company    March 10, 2023   \n",
      "7  15426                          Equity Bank  October 23, 2020   \n",
      "8  16748            United Fidelity Bank, fsb  October 16, 2020   \n",
      "9  14361                       MVB Bank, Inc.     April 3, 2020   \n",
      "\n",
      "   Fund  Sort ascending  \n",
      "0                 10547  \n",
      "1                 10546  \n",
      "2                 10545  \n",
      "3                 10544  \n",
      "4                 10543  \n",
      "5                 10540  \n",
      "6                 10539  \n",
      "7                 10538  \n",
      "8                 10537  \n",
      "9                 10536  ]\n"
     ]
    }
   ],
   "source": [
    "df_html = pd.read_html('http://www.fdic.gov/bank/individual/failed/banklist.html')\n",
    "print(df_html)"
   ]
  },
  {
   "cell_type": "code",
   "execution_count": 15,
   "metadata": {},
   "outputs": [
    {
     "data": {
      "text/html": [
       "<div>\n",
       "<style scoped>\n",
       "    .dataframe tbody tr th:only-of-type {\n",
       "        vertical-align: middle;\n",
       "    }\n",
       "\n",
       "    .dataframe tbody tr th {\n",
       "        vertical-align: top;\n",
       "    }\n",
       "\n",
       "    .dataframe thead th {\n",
       "        text-align: right;\n",
       "    }\n",
       "</style>\n",
       "<table border=\"1\" class=\"dataframe\">\n",
       "  <thead>\n",
       "    <tr style=\"text-align: right;\">\n",
       "      <th></th>\n",
       "      <th>Bank Name</th>\n",
       "      <th>City</th>\n",
       "      <th>State</th>\n",
       "      <th>Cert</th>\n",
       "      <th>Aquiring Institution</th>\n",
       "      <th>Closing Date</th>\n",
       "      <th>Fund  Sort ascending</th>\n",
       "    </tr>\n",
       "  </thead>\n",
       "  <tbody>\n",
       "    <tr>\n",
       "      <th>0</th>\n",
       "      <td>The First National Bank of Lindsay</td>\n",
       "      <td>Lindsay</td>\n",
       "      <td>Oklahoma</td>\n",
       "      <td>4134</td>\n",
       "      <td>First Bank &amp; Trust Co., Duncan, OK</td>\n",
       "      <td>October 18, 2024</td>\n",
       "      <td>10547</td>\n",
       "    </tr>\n",
       "    <tr>\n",
       "      <th>1</th>\n",
       "      <td>Republic First Bank dba Republic Bank</td>\n",
       "      <td>Philadelphia</td>\n",
       "      <td>Pennsylvania</td>\n",
       "      <td>27332</td>\n",
       "      <td>Fulton Bank, National Association</td>\n",
       "      <td>April 26, 2024</td>\n",
       "      <td>10546</td>\n",
       "    </tr>\n",
       "    <tr>\n",
       "      <th>2</th>\n",
       "      <td>Citizens Bank</td>\n",
       "      <td>Sac City</td>\n",
       "      <td>Iowa</td>\n",
       "      <td>8758</td>\n",
       "      <td>Iowa Trust &amp; Savings Bank</td>\n",
       "      <td>November 3, 2023</td>\n",
       "      <td>10545</td>\n",
       "    </tr>\n",
       "    <tr>\n",
       "      <th>3</th>\n",
       "      <td>Heartland Tri-State Bank</td>\n",
       "      <td>Elkhart</td>\n",
       "      <td>Kansas</td>\n",
       "      <td>25851</td>\n",
       "      <td>Dream First Bank, N.A.</td>\n",
       "      <td>July 28, 2023</td>\n",
       "      <td>10544</td>\n",
       "    </tr>\n",
       "    <tr>\n",
       "      <th>4</th>\n",
       "      <td>First Republic Bank</td>\n",
       "      <td>San Francisco</td>\n",
       "      <td>California</td>\n",
       "      <td>59017</td>\n",
       "      <td>JPMorgan Chase Bank, N.A.</td>\n",
       "      <td>May 1, 2023</td>\n",
       "      <td>10543</td>\n",
       "    </tr>\n",
       "  </tbody>\n",
       "</table>\n",
       "</div>"
      ],
      "text/plain": [
       "                               Bank Name           City         State   Cert  \\\n",
       "0     The First National Bank of Lindsay        Lindsay      Oklahoma   4134   \n",
       "1  Republic First Bank dba Republic Bank   Philadelphia  Pennsylvania  27332   \n",
       "2                          Citizens Bank       Sac City          Iowa   8758   \n",
       "3               Heartland Tri-State Bank        Elkhart        Kansas  25851   \n",
       "4                    First Republic Bank  San Francisco    California  59017   \n",
       "\n",
       "                 Aquiring Institution      Closing Date  Fund  Sort ascending  \n",
       "0  First Bank & Trust Co., Duncan, OK  October 18, 2024                 10547  \n",
       "1   Fulton Bank, National Association    April 26, 2024                 10546  \n",
       "2           Iowa Trust & Savings Bank  November 3, 2023                 10545  \n",
       "3              Dream First Bank, N.A.     July 28, 2023                 10544  \n",
       "4           JPMorgan Chase Bank, N.A.       May 1, 2023                 10543  "
      ]
     },
     "execution_count": 15,
     "metadata": {},
     "output_type": "execute_result"
    }
   ],
   "source": [
    "df[0].head()"
   ]
  },
  {
   "cell_type": "code",
   "execution_count": 21,
   "metadata": {},
   "outputs": [
    {
     "name": "stdout",
     "output_type": "stream",
     "text": [
      "Engine(sqlite:///:memory:)\n",
      "   index   a   b   c   d\n",
      "0      0   0   1   2   3\n",
      "1      1   4   5   6   7\n",
      "2      2   8   9  10  11\n",
      "3      3  12  13  14  15\n",
      "   index   a   b   c   d\n",
      "0      0   0   1   2   3\n",
      "1      1   4   5   6   7\n",
      "2      2   8   9  10  11\n",
      "3      3  12  13  14  15\n"
     ]
    }
   ],
   "source": [
    "from sqlalchemy import create_engine\n",
    "conn = create_engine('sqlite:///:memory:')\n",
    "df.to_sql('my_table', conn)\n",
    "\n",
    "print(conn)\n",
    "print(pd.read_sql('my_table', conn))\n",
    "print(pd.read_sql('SELECT * FROM my_table WHERE 1=1;', conn))"
   ]
  },
  {
   "cell_type": "markdown",
   "metadata": {},
   "source": [
    "# Matplotlib"
   ]
  },
  {
   "cell_type": "code",
   "execution_count": 15,
   "metadata": {},
   "outputs": [
    {
     "name": "stdout",
     "output_type": "stream",
     "text": [
      "[0.  0.5 1.  1.5 2.  2.5 3.  3.5 4.  4.5 5. ] [ 0.    0.25  1.    2.25  4.    6.25  9.   12.25 16.   20.25 25.  ]\n"
     ]
    }
   ],
   "source": [
    "import matplotlib.pyplot as plt\n",
    "import numpy as np\n",
    "%matplotlib inline\n",
    "\n",
    "get_ipython().run_line_magic('matplotlib', 'inline')\n",
    "\n",
    "x = np.linspace(0, 5, 11)\n",
    "y = x ** 2\n",
    "print(x, y)\n",
    "# print(y)"
   ]
  },
  {
   "cell_type": "code",
   "execution_count": 10,
   "metadata": {},
   "outputs": [
    {
     "name": "stdout",
     "output_type": "stream",
     "text": [
      "['gtk3agg', 'gtk3cairo', 'gtk4agg', 'gtk4cairo', 'macosx', 'nbagg', 'notebook', 'qtagg', 'qtcairo', 'qt5agg', 'qt5cairo', 'tkagg', 'tkcairo', 'webagg', 'wx', 'wxagg', 'wxcairo']\n",
      "['agg', 'cairo', 'pdf', 'pgf', 'ps', 'svg', 'template']\n",
      "['gtk3agg', 'gtk3cairo', 'gtk4agg', 'gtk4cairo', 'macosx', 'nbagg', 'notebook', 'qtagg', 'qtcairo', 'qt5agg', 'qt5cairo', 'tkagg', 'tkcairo', 'webagg', 'wx', 'wxagg', 'wxcairo', 'agg', 'cairo', 'pdf', 'pgf', 'ps', 'svg', 'template']\n"
     ]
    }
   ],
   "source": [
    "import matplotlib\n",
    "# %matplotlib widgets\n",
    "\n",
    "# https://stackoverflow.com/questions/5091993/list-of-all-available-matplotlib-backends\n",
    "# print(matplotlib.rcsetup.interactive_bk)\n",
    "# print(matplotlib.rcsetup.non_interactive_bk)\n",
    "# print(matplotlib.rcsetup.all_backends)\n",
    "\n",
    "print(matplotlib.backends.backend_registry.list_builtin(matplotlib.backends.BackendFilter.INTERACTIVE))\n",
    "print(matplotlib.backends.backend_registry.list_builtin(matplotlib.backends.BackendFilter.NON_INTERACTIVE))\n",
    "print(matplotlib.backends.backend_registry.list_builtin())"
   ]
  },
  {
   "cell_type": "code",
   "execution_count": 11,
   "metadata": {},
   "outputs": [
    {
     "data": {
      "text/plain": [
       "Text(0, 0.5, 'Y Label')"
      ]
     },
     "execution_count": 11,
     "metadata": {},
     "output_type": "execute_result"
    }
   ],
   "source": [
    "plt.plot(x,y,'r-')\n",
    "plt.xlabel('X Label')\n",
    "plt.ylabel('Y Label')\n",
    "# plt.show()"
   ]
  },
  {
   "cell_type": "code",
   "execution_count": 26,
   "metadata": {},
   "outputs": [
    {
     "data": {
      "image/png": "[encoded data removed]",
      "text/plain": [
       "<Figure size 640x480 with 2 Axes>"
      ]
     },
     "metadata": {},
     "output_type": "display_data"
    }
   ],
   "source": [
    "plt.subplot(1,2,1)\n",
    "plt.plot(x,y,'r-')\n",
    "\n",
    "plt.subplot(1,2,2)\n",
    "plt.plot(y,x,'b-')\n",
    "\n",
    "plt.show()"
   ]
  },
  {
   "cell_type": "code",
   "execution_count": 27,
   "metadata": {},
   "outputs": [
    {
     "name": "stderr",
     "output_type": "stream",
     "text": [
      "C:\\Users\\farha\\AppData\\Local\\Temp\\ipykernel_9592\\2868806081.py:6: UserWarning: FigureCanvasAgg is non-interactive, and thus cannot be shown\n",
      "  fig.show()\n"
     ]
    }
   ],
   "source": [
    "## OO\n",
    "fig = plt.figure()\n",
    "\n",
    "axes = fig.add_axes([0.1, 0.1, 0.8, 0.8])\n",
    "axes.plot(x,y,'g-')\n",
    "fig.show()"
   ]
  }
 ],
 "metadata": {
  "colab": {
   "authorship_tag": "ABX9TyMejzeC2AVUZLAWmyR+CrDW",
   "include_colab_link": true,
   "provenance": []
  },
  "kernelspec": {
   "display_name": "Python 3 (ipykernel)",
   "language": "python",
   "name": "python3"
  },
  "language_info": {
   "codemirror_mode": {
    "name": "ipython",
    "version": 3
   },
   "file_extension": ".py",
   "mimetype": "text/x-python",
   "name": "python",
   "nbconvert_exporter": "python",
   "pygments_lexer": "ipython3",
   "version": "3.12.7"
  }
 },
 "nbformat": 4,
 "nbformat_minor": 4
}

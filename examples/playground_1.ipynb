{
  "nbformat": 4,
  "nbformat_minor": 0,
  "metadata": {
    "colab": {
      "provenance": [],
      "authorship_tag": "ABX9TyP8r+VDHe8clBObnbeobpcq",
      "include_colab_link": true
    },
    "kernelspec": {
      "name": "python3",
      "display_name": "Python 3"
    },
    "language_info": {
      "name": "python"
    }
  },
  "cells": [
    {
      "cell_type": "markdown",
      "metadata": {
        "id": "view-in-github",
        "colab_type": "text"
      },
      "source": [
        "<a href=\"https://colab.research.google.com/github/FarhanMS123/NeuralNetworkMemorandum/blob/main/examples/playground_1.ipynb\" target=\"_parent\"><img src=\"https://colab.research.google.com/assets/colab-badge.svg\" alt=\"Open In Colab\"/></a>"
      ]
    },
    {
      "cell_type": "markdown",
      "source": [
        "# Playground\n",
        "Just list and some documentation of libraries and how I want to use it"
      ],
      "metadata": {
        "id": "m6ftexaln9QC"
      }
    },
    {
      "cell_type": "code",
      "execution_count": null,
      "metadata": {
        "id": "xMgGoAnznWZF"
      },
      "outputs": [],
      "source": [
        "# BuiltIn: IPython\n",
        "!pip install matplotlib numpy Pillow pandas\n",
        "\n",
        "!apt install libcairo2-dev pkg-config python3-dev\n",
        "!pip install pycairo"
      ]
    }
  ]
}
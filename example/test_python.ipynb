{
  "nbformat": 4,
  "nbformat_minor": 0,
  "metadata": {
    "colab": {
      "provenance": [],
      "authorship_tag": "ABX9TyMomowlWcxN08DIWFOs5EkL",
      "include_colab_link": true
    },
    "kernelspec": {
      "name": "python3",
      "display_name": "Python 3"
    },
    "language_info": {
      "name": "python"
    }
  },
  "cells": [
    {
      "cell_type": "markdown",
      "metadata": {
        "id": "view-in-github",
        "colab_type": "text"
      },
      "source": [
        "<a href=\"https://colab.research.google.com/github/FarhanMS123/NeuralNetworkMemorandum/blob/main/example/test_python.ipynb\" target=\"_parent\"><img src=\"https://colab.research.google.com/assets/colab-badge.svg\" alt=\"Open In Colab\"/></a>"
      ]
    },
    {
      "cell_type": "markdown",
      "source": [
        "# Basic Python\n",
        "Ref:\n",
        "- https://udemy.com/course/python-for-data-science-and-machine-learning-bootcamp"
      ],
      "metadata": {
        "id": "2FOsj5bViewT"
      }
    },
    {
      "cell_type": "code",
      "execution_count": 8,
      "metadata": {
        "id": "dFhmwKPUH_fS",
        "colab": {
          "base_uri": "https://localhost:8080/"
        },
        "outputId": "24ee8f3a-4162-495c-f879-f842bf2354aa"
      },
      "outputs": [
        {
          "output_type": "stream",
          "name": "stdout",
          "text": [
            "[2, 3, 4, 5, 2, 3, 4, 5, 2, 3, 4, 5]\n",
            "[2, 3, 4, 5, 2]\n",
            "[ 6  9 12 15]\n"
          ]
        }
      ],
      "source": [
        "import numpy as np\n",
        "\n",
        "print([2,3,4,5] * 3)\n",
        "# print([2,3,4,5] * [3])\n",
        "# print([2,3,4,5] + 2)\n",
        "print([2,3,4,5] + [2])\n",
        "# print([2,3,4,5] / 3)\n",
        "# print([2,3,4,5] / [2,3,4,5])\n",
        "print(np.array([2,3,4,5]) * 3)"
      ]
    },
    {
      "cell_type": "code",
      "source": [
        "# print({2,3,3,3,2,2,3,4,5,4,4,4,5,5,5} + {7,7,7,7,2,2,2,3,3,3})\n",
        "# print({2,3,3,3,2,2,3,4,5,4,4,4,5,5,5} * 2)\n",
        "print(\"Hello\" == 'Hello')\n",
        "# print(False || True)\n",
        "print(False or True and True)"
      ],
      "metadata": {
        "colab": {
          "base_uri": "https://localhost:8080/"
        },
        "id": "fiZnCHwQIjDj",
        "outputId": "a483cf8a-0a01-498d-9321-72c29fe0b55e"
      },
      "execution_count": 14,
      "outputs": [
        {
          "output_type": "stream",
          "name": "stdout",
          "text": [
            "True\n",
            "True\n"
          ]
        }
      ]
    },
    {
      "cell_type": "code",
      "source": [
        "seq = range(3,12)\n",
        "print(seq)\n",
        "print(list(seq))\n",
        "\n",
        "for x in seq:\n",
        "  print(x)\n",
        "\n",
        "list_comprehension = [x**2 for x in seq]\n",
        "print(list_comprehension)"
      ],
      "metadata": {
        "id": "dZqFxrvXhfEk",
        "outputId": "f7577e40-d504-4ddd-cc3c-6426b762b7c8",
        "colab": {
          "base_uri": "https://localhost:8080/"
        }
      },
      "execution_count": 18,
      "outputs": [
        {
          "output_type": "stream",
          "name": "stdout",
          "text": [
            "range(3, 12)\n",
            "[3, 4, 5, 6, 7, 8, 9, 10, 11]\n",
            "3\n",
            "4\n",
            "5\n",
            "6\n",
            "7\n",
            "8\n",
            "9\n",
            "10\n",
            "11\n",
            "[9, 16, 25, 36, 49, 64, 81, 100, 121]\n"
          ]
        }
      ]
    },
    {
      "cell_type": "code",
      "source": [
        "def square(x):\n",
        "  \"\"\"\n",
        "  This is DOCSTRING\n",
        "  Shift + Tab\n",
        "  Ctrl + Space\n",
        "  \"\"\"\n",
        "  return x**2\n",
        "\n",
        "square"
      ],
      "metadata": {
        "id": "acenDdPUi2mz",
        "outputId": "8ca4f36f-1d8d-4912-a50f-03de2a3de317",
        "colab": {
          "base_uri": "https://localhost:8080/",
          "height": 139
        }
      },
      "execution_count": 26,
      "outputs": [
        {
          "output_type": "execute_result",
          "data": {
            "text/plain": [
              "<function __main__.square(x)>"
            ],
            "text/html": [
              "<div style=\"max-width:800px; border: 1px solid var(--colab-border-color);\"><style>\n",
              "      pre.function-repr-contents {\n",
              "        overflow-x: auto;\n",
              "        padding: 8px 12px;\n",
              "        max-height: 500px;\n",
              "      }\n",
              "\n",
              "      pre.function-repr-contents.function-repr-contents-collapsed {\n",
              "        cursor: pointer;\n",
              "        max-height: 100px;\n",
              "      }\n",
              "    </style>\n",
              "    <pre style=\"white-space: initial; background:\n",
              "         var(--colab-secondary-surface-color); padding: 8px 12px;\n",
              "         border-bottom: 1px solid var(--colab-border-color);\"><b>square</b><br/>def square(x)</pre><pre class=\"function-repr-contents function-repr-contents-collapsed\" style=\"\"><a class=\"filepath\" style=\"display:none\" href=\"#\">/content/&lt;ipython-input-26-fd57c3603c36&gt;</a>This is DOCSTRING\n",
              "Shift + Tab\n",
              "Ctrl + Space</pre></div>"
            ]
          },
          "metadata": {},
          "execution_count": 26
        }
      ]
    },
    {
      "cell_type": "code",
      "source": [
        "def square2(x):\n",
        "  return x**2\n",
        "square2"
      ],
      "metadata": {
        "id": "O8JznUI7k_Ou",
        "outputId": "64b1ea45-f8c4-4a12-930b-68a00f2f2496",
        "colab": {
          "base_uri": "https://localhost:8080/",
          "height": 104
        }
      },
      "execution_count": 27,
      "outputs": [
        {
          "output_type": "execute_result",
          "data": {
            "text/plain": [
              "<function __main__.square2(x)>"
            ],
            "text/html": [
              "<div style=\"max-width:800px; border: 1px solid var(--colab-border-color);\"><style>\n",
              "      pre.function-repr-contents {\n",
              "        overflow-x: auto;\n",
              "        padding: 8px 12px;\n",
              "        max-height: 500px;\n",
              "      }\n",
              "\n",
              "      pre.function-repr-contents.function-repr-contents-collapsed {\n",
              "        cursor: pointer;\n",
              "        max-height: 100px;\n",
              "      }\n",
              "    </style>\n",
              "    <pre style=\"white-space: initial; background:\n",
              "         var(--colab-secondary-surface-color); padding: 8px 12px;\n",
              "         border-bottom: 1px solid var(--colab-border-color);\"><b>square2</b><br/>def square2(x)</pre><pre class=\"function-repr-contents function-repr-contents-collapsed\" style=\"\"><a class=\"filepath\" style=\"display:none\" href=\"#\">/content/&lt;ipython-input-27-58d88f427afd&gt;</a>&lt;no docstring&gt;</pre></div>"
            ]
          },
          "metadata": {},
          "execution_count": 27
        }
      ]
    },
    {
      "cell_type": "code",
      "source": [
        "\"\"\"\n",
        "This is DOCSTRING\n",
        "Shift + Tab\n",
        "Ctrl + Space\n",
        "\"\"\"\n",
        "square = lambda x: x**2\n",
        "square"
      ],
      "metadata": {
        "id": "h1SFPniUj9aH",
        "outputId": "ff9e2d6b-b1be-4070-f4b7-a687c57d008c",
        "colab": {
          "base_uri": "https://localhost:8080/"
        }
      },
      "execution_count": 21,
      "outputs": [
        {
          "output_type": "execute_result",
          "data": {
            "text/plain": [
              "<function __main__.<lambda>(x)>"
            ]
          },
          "metadata": {},
          "execution_count": 21
        }
      ]
    },
    {
      "cell_type": "code",
      "source": [
        "def abcd(): return 2**2\n",
        "print(abcd())\n",
        "print(2 in [1,2,3,4])\n",
        "\n",
        "for a,b in [(1,2),(3,4),(5,6)]:\n",
        "  print(b,a)"
      ],
      "metadata": {
        "id": "IAXv5WwXkL9T",
        "outputId": "9f76e9c6-2ba7-4a9d-9228-6cea66632c22",
        "colab": {
          "base_uri": "https://localhost:8080/"
        }
      },
      "execution_count": 29,
      "outputs": [
        {
          "output_type": "stream",
          "name": "stdout",
          "text": [
            "4\n",
            "True\n",
            "2 1\n",
            "4 3\n",
            "6 5\n"
          ]
        }
      ]
    }
  ]
}
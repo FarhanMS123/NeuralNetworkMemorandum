{
  "nbformat": 4,
  "nbformat_minor": 0,
  "metadata": {
    "colab": {
      "provenance": [],
      "authorship_tag": "ABX9TyM365cnVcPabcbwElcM49e8",
      "include_colab_link": true
    },
    "kernelspec": {
      "name": "python3",
      "display_name": "Python 3"
    },
    "language_info": {
      "name": "python"
    }
  },
  "cells": [
    {
      "cell_type": "markdown",
      "metadata": {
        "id": "view-in-github",
        "colab_type": "text"
      },
      "source": [
        "<a href=\"https://colab.research.google.com/github/FarhanMS123/NeuralNetworkMemorandum/blob/main/example/test_python.ipynb\" target=\"_parent\"><img src=\"https://colab.research.google.com/assets/colab-badge.svg\" alt=\"Open In Colab\"/></a>"
      ]
    },
    {
      "cell_type": "code",
      "execution_count": 3,
      "metadata": {
        "id": "dFhmwKPUH_fS",
        "outputId": "f327b5d8-c293-4860-a4bf-eeaac8eafaa4",
        "colab": {
          "base_uri": "https://localhost:8080/"
        }
      },
      "outputs": [
        {
          "output_type": "stream",
          "name": "stdout",
          "text": [
            "[2, 3, 4, 5, 2, 3, 4, 5, 2, 3, 4, 5]\n",
            "[ 6  9 12 15]\n"
          ]
        }
      ],
      "source": [
        "import numpy as np\n",
        "\n",
        "print([2,3,4,5] * 3)\n",
        "print([2,3,4,5] + 8)\n",
        "print([2,3,4,5] / 3)\n",
        "print(np.array([2,3,4,5]) * 3)"
      ]
    },
    {
      "cell_type": "code",
      "source": [],
      "metadata": {
        "id": "fiZnCHwQIjDj"
      },
      "execution_count": null,
      "outputs": []
    }
  ]
}
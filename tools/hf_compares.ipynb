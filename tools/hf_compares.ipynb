{
 "cells": [
  {
   "cell_type": "markdown",
   "id": "02b5d7c0",
   "metadata": {},
   "source": [
    "# HuggingFace Compare Models\n",
    "\n",
    "1. get your token and run below or just use `hf_`\n",
    "2. For \"Base Like\" and \"Base Download\", try to execute the table once\n",
    "3. After that, find the most highest ranks nearest-top models with the same name. \n",
    "   - For example, model A is 2nd like and 13th downloads. Model B is 4th like and 7th download. And model C is 8th like and 6th download.\n",
    "   - You should take model B.\n",
    "   - If C is 6th like and 6th download, you could take C, as it is nearest top.\n",
    "   - This gives analysis the actual \"like\" by downloads with threshold the nearest top like and downloads\n",
    "\n",
    "References:\n",
    "- https://huggingface.co/docs/hub/api\n",
    "- https://huggingface.co/spaces/enzostvs/hub-api-playground\n",
    "- https://huggingface.co/docs/hub/api#get-apimodels\n",
    "- https://github.com/huggingface/huggingface_hub\n",
    "- https://huggingface.co/docs/huggingface_hub/en/guides/search"
   ]
  },
  {
   "cell_type": "code",
   "execution_count": 17,
   "id": "abba58bf",
   "metadata": {},
   "outputs": [],
   "source": [
    "from IPython.display import display, Image as dImage\n",
    "import requests\n",
    "import json\n",
    "import math\n",
    "\n",
    "import pandas as pd\n",
    "import ipywidgets as widgets\n",
    "from huggingface_hub import HfApi\n",
    "\n",
    "pd.set_option('display.max_colwidth', None)  # Or a large number like 1000\n",
    "pd.set_option('display.max_rows', None)  # Or a large number like 1000\n",
    "pd.set_option('display.width', 1000)\n",
    "pd.set_option('display.max_columns', None)"
   ]
  },
  {
   "cell_type": "code",
   "execution_count": 31,
   "id": "297d171c",
   "metadata": {},
   "outputs": [
    {
     "data": {
      "application/vnd.jupyter.widget-view+json": {
       "model_id": "3ae94861069343099e147d6f18758f97",
       "version_major": 2,
       "version_minor": 0
      },
      "text/plain": [
       "Text(value='hf_', description='Token', placeholder='Huggingface Token')"
      ]
     },
     "metadata": {},
     "output_type": "display_data"
    },
    {
     "data": {
      "application/vnd.jupyter.widget-view+json": {
       "model_id": "9d8ef78a08ae4f129919eee0b2d04969",
       "version_major": 2,
       "version_minor": 0
      },
      "text/plain": [
       "Text(value='huggingface', description='Author', placeholder='Author / Owner / Orgs')"
      ]
     },
     "metadata": {},
     "output_type": "display_data"
    },
    {
     "data": {
      "application/vnd.jupyter.widget-view+json": {
       "model_id": "9e76da240860430b90ec53d9196ba2a7",
       "version_major": 2,
       "version_minor": 0
      },
      "text/plain": [
       "Text(value='', description='Search', placeholder='Queries and keywords...')"
      ]
     },
     "metadata": {},
     "output_type": "display_data"
    },
    {
     "data": {
      "application/vnd.jupyter.widget-view+json": {
       "model_id": "3b0946c4e4c0481c888307d767623c8a",
       "version_major": 2,
       "version_minor": 0
      },
      "text/plain": [
       "IntText(value=250, description='Limit:')"
      ]
     },
     "metadata": {},
     "output_type": "display_data"
    },
    {
     "data": {
      "application/vnd.jupyter.widget-view+json": {
       "model_id": "9a4938693bd843379511a8f404ba780e",
       "version_major": 2,
       "version_minor": 0
      },
      "text/plain": [
       "IntText(value=1, description='Base Like:')"
      ]
     },
     "metadata": {},
     "output_type": "display_data"
    },
    {
     "data": {
      "application/vnd.jupyter.widget-view+json": {
       "model_id": "033dafc9947e40d59fcfbad7fe2f853c",
       "version_major": 2,
       "version_minor": 0
      },
      "text/plain": [
       "IntText(value=1, description='Base Download:')"
      ]
     },
     "metadata": {},
     "output_type": "display_data"
    }
   ],
   "source": [
    "txt_token = widgets.Text(\n",
    "  value='hf_',\n",
    "  placeholder='Huggingface Token',\n",
    "  description='Token',\n",
    ")\n",
    "\n",
    "txt_author = widgets.Text(\n",
    "  value='huggingface',\n",
    "  placeholder='Author / Owner / Orgs',\n",
    "  description='Author',\n",
    ")\n",
    "\n",
    "txt_search = widgets.Text(\n",
    "  placeholder='Queries and keywords...',\n",
    "  description='Search',\n",
    ")\n",
    "\n",
    "int_limit = widgets.IntText(\n",
    "    value=250,\n",
    "    description='Limit:',\n",
    ")\n",
    "\n",
    "int_base_like = widgets.IntText(\n",
    "    value=1,\n",
    "    placeholder='The max like on the same model',\n",
    "    description='Base Like:',\n",
    ")\n",
    "\n",
    "int_base_download = widgets.IntText(\n",
    "    value=1,\n",
    "    placeholder='The max download on the same model',\n",
    "    description='Base Download:',\n",
    ")\n",
    "\n",
    "display(txt_token)\n",
    "display(txt_author)\n",
    "display(txt_search)\n",
    "display(int_limit)\n",
    "\n",
    "display(int_base_like)\n",
    "display(int_base_download)"
   ]
  },
  {
   "cell_type": "code",
   "execution_count": 4,
   "id": "14704922",
   "metadata": {},
   "outputs": [],
   "source": [
    "api = HfApi(\n",
    "  token=txt_token.value,\n",
    ")"
   ]
  },
  {
   "cell_type": "code",
   "execution_count": null,
   "id": "fab5ef53",
   "metadata": {},
   "outputs": [],
   "source": [
    "models = requests.get(\n",
    "  url=\"https://huggingface.co/api/models/huggingface/time-series-transformer-tourism-monthly\",\n",
    "  params={},\n",
    "  headers={\n",
    "    \"Authorization\": f\"Bearer {txt_token.value}\",\n",
    "  }\n",
    ")\n",
    "\n",
    "models.json()"
   ]
  },
  {
   "cell_type": "code",
   "execution_count": null,
   "id": "2f84ba35",
   "metadata": {},
   "outputs": [],
   "source": [
    "models = requests.get(\n",
    "  url=\"https://huggingface.co/api/models\",\n",
    "  params={\n",
    "    \"author\": txt_author.value,\n",
    "    \"sort\": \"likes\", # lastModified, downloads\n",
    "  },\n",
    "  headers={\n",
    "    \"Authorization\": f\"Bearer {txt_token.value}\",\n",
    "  }\n",
    ")\n",
    "\n",
    "models.json()"
   ]
  },
  {
   "cell_type": "code",
   "execution_count": 34,
   "id": "85143f05",
   "metadata": {},
   "outputs": [
    {
     "name": "stdout",
     "output_type": "stream",
     "text": [
      "                                                     likes                                                          downloads                                        lastModified\n",
      "0                                  CodeBERTa-small-v1 (81)                                CodeBERTa-small-v1 (125225; 125225)             time-series-transformer-tourism-monthly\n",
      "1                               CodeBERTa-language-id (62)                          autoformer-tourism-monthly (54858; 54858)                             timesfm-tourism-monthly\n",
      "2             time-series-transformer-tourism-monthly (22)                            informer-tourism-monthly (54777; 54777)                               CodeBERTa-language-id\n",
      "3                                     falcon-40b-gptq (12)                               CodeBERTa-language-id (51956; 51956)                                     falcon-40b-gptq\n",
      "4                           autoformer-tourism-monthly (9)  prunebert-base-uncased-6-finepruned-w-distil-squad (10427; 10427)                          autoformer-tourism-monthly\n",
      "5                             informer-tourism-monthly (6)               time-series-transformer-tourism-monthly (4733; 4733)              distilbert-base-uncased-finetuned-mnli\n",
      "6                                   the-no-branch-repo (5)                                            funnel-small (432; 432)                            informer-tourism-monthly\n",
      "7   prunebert-base-uncased-6-finepruned-w-distil-squad (4)                  distilbert-base-uncased-finetuned-mnli (355; 355)                                  the-no-branch-repo\n",
      "8                                       gpt2-wikitext2 (3)                               bert-base-cased-wikitext2 (118; 118)                                  CodeBERTa-small-v1\n",
      "9               distilbert-base-uncased-finetuned-mnli (2)                                            gpt2-wikitext2 (84; 84)                                     test-model-repo\n",
      "10   prunebert-base-uncased-6-finepruned-w-distil-mnli (2)         prunebert-base-uncased-6-finepruned-w-distil-mnli (54; 54)                           bert-base-cased-wikitext2\n",
      "11                             timesfm-tourism-monthly (2)                                         funnel-small-base (42; 42)                                      gpt2-wikitext2\n",
      "12                           bert-base-cased-wikitext2 (1)                                           falcon-40b-gptq (37; 37)  prunebert-base-uncased-6-finepruned-w-distil-squad\n",
      "13                                   funnel-small-base (1)                                        the-no-branch-repo (23; 23)   prunebert-base-uncased-6-finepruned-w-distil-mnli\n",
      "14                                        funnel-small (1)                                   timesfm-tourism-monthly (22; 22)                                   funnel-small-base\n",
      "15                                     test-model-repo (1)                                             test-model-repo (0; 0)                                        funnel-small\n"
     ]
    }
   ],
   "source": [
    "likes = [\n",
    "  f\"{x.id[len(txt_author.value)+1:]} ({x.likes})\"\n",
    "  for x in api.list_models(\n",
    "    author=txt_author.value,\n",
    "    sort=\"likes\",\n",
    "    search=txt_search.value,\n",
    "  )\n",
    "]\n",
    "\n",
    "downloads = [\n",
    "  f\"{x.id[len(txt_author.value)+1:]} ({x.downloads}; {math.ceil(x.downloads * int_base_like.value / int_base_download.value)})\"\n",
    "  for x in api.list_models(\n",
    "    author=txt_author.value,\n",
    "    sort=\"downloads\",\n",
    "    search=txt_search.value,\n",
    "  )\n",
    "]\n",
    "\n",
    "lastModified = [\n",
    "  f\"{x.id[len(txt_author.value)+1:]}\"\n",
    "  for x in api.list_models(\n",
    "    author=txt_author.value,\n",
    "    sort=\"lastModified\",\n",
    "    search=txt_search.value,\n",
    "  )\n",
    "]\n",
    "\n",
    "df = pd.DataFrame(data={\n",
    "  \"likes\": likes,\n",
    "  \"downloads\": downloads,\n",
    "  \"lastModified\": lastModified,\n",
    "})\n",
    "\n",
    "print(df.head(250))"
   ]
  }
 ],
 "metadata": {
  "kernelspec": {
   "display_name": "base",
   "language": "python",
   "name": "python3"
  },
  "language_info": {
   "codemirror_mode": {
    "name": "ipython",
    "version": 3
   },
   "file_extension": ".py",
   "mimetype": "text/x-python",
   "name": "python",
   "nbconvert_exporter": "python",
   "pygments_lexer": "ipython3",
   "version": "3.12.9"
  }
 },
 "nbformat": 4,
 "nbformat_minor": 5
}

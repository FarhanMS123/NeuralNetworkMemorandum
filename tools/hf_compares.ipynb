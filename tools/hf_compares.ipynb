{
 "cells": [
  {
   "cell_type": "markdown",
   "id": "02b5d7c0",
   "metadata": {},
   "source": [
    "# HuggingFace Compare Models\n",
    "\n",
    "1. get your token and run below or just use `hf_`\n",
    "\n",
    "References:\n",
    "- https://huggingface.co/docs/hub/api\n",
    "- https://huggingface.co/spaces/enzostvs/hub-api-playground\n",
    "- https://huggingface.co/docs/hub/api#get-apimodels\n",
    "- https://github.com/huggingface/huggingface_hub\n",
    "- https://huggingface.co/docs/huggingface_hub/en/guides/search"
   ]
  },
  {
   "cell_type": "code",
   "execution_count": 51,
   "id": "abba58bf",
   "metadata": {},
   "outputs": [],
   "source": [
    "from IPython.display import display, Image as dImage\n",
    "import requests\n",
    "import json\n",
    "\n",
    "import pandas as pd\n",
    "import ipywidgets as widgets\n",
    "from huggingface_hub import HfApi\n",
    "\n",
    "pd.set_option('display.max_colwidth', None)  # Or a large number like 1000\n",
    "pd.set_option('display.max_rows', None)  # Or a large number like 1000\n",
    "pd.set_option('display.width', 1000)\n",
    "pd.set_option('display.max_columns', None)"
   ]
  },
  {
   "cell_type": "code",
   "execution_count": 52,
   "id": "297d171c",
   "metadata": {},
   "outputs": [
    {
     "data": {
      "application/vnd.jupyter.widget-view+json": {
       "model_id": "ff346ff820f74e098ad917fb69a2af52",
       "version_major": 2,
       "version_minor": 0
      },
      "text/plain": [
       "Text(value='hf_', description='Token', placeholder='Huggingface Token')"
      ]
     },
     "metadata": {},
     "output_type": "display_data"
    },
    {
     "data": {
      "application/vnd.jupyter.widget-view+json": {
       "model_id": "76dcc5a6d1d5451cb1e1d6cba99f62c6",
       "version_major": 2,
       "version_minor": 0
      },
      "text/plain": [
       "Text(value='huggingface', description='Author', placeholder='Author / Owner / Orgs')"
      ]
     },
     "metadata": {},
     "output_type": "display_data"
    }
   ],
   "source": [
    "txt_token = widgets.Text(\n",
    "  value='hf_',\n",
    "  placeholder='Huggingface Token',\n",
    "  description='Token',\n",
    "  disabled=False   \n",
    ")\n",
    "\n",
    "txt_author = widgets.Text(\n",
    "  value='huggingface',\n",
    "  placeholder='Author / Owner / Orgs',\n",
    "  description='Author',\n",
    "  disabled=False   \n",
    ")\n",
    "\n",
    "display(txt_token)\n",
    "display(txt_author)"
   ]
  },
  {
   "cell_type": "code",
   "execution_count": null,
   "id": "14704922",
   "metadata": {},
   "outputs": [],
   "source": [
    "api = HfApi(\n",
    "  token=txt_token.value,\n",
    ")"
   ]
  },
  {
   "cell_type": "code",
   "execution_count": null,
   "id": "fab5ef53",
   "metadata": {},
   "outputs": [],
   "source": [
    "models = requests.get(\n",
    "  url=\"https://huggingface.co/api/models/huggingface/time-series-transformer-tourism-monthly\",\n",
    "  params={},\n",
    "  headers={\n",
    "    \"Authorization\": f\"Bearer {txt_token.value}\",\n",
    "  }\n",
    ")\n",
    "\n",
    "models.json()"
   ]
  },
  {
   "cell_type": "code",
   "execution_count": null,
   "id": "2f84ba35",
   "metadata": {},
   "outputs": [],
   "source": [
    "models = requests.get(\n",
    "  url=\"https://huggingface.co/api/models\",\n",
    "  params={\n",
    "    \"author\": txt_author.value,\n",
    "    \"sort\": \"likes\", # lastModified, downloads\n",
    "  },\n",
    "  headers={\n",
    "    \"Authorization\": f\"Bearer {txt_token.value}\",\n",
    "  }\n",
    ")\n",
    "\n",
    "models.json()"
   ]
  },
  {
   "cell_type": "code",
   "execution_count": 54,
   "id": "85143f05",
   "metadata": {},
   "outputs": [
    {
     "name": "stdout",
     "output_type": "stream",
     "text": [
      "                                                     likes                                                   downloads                                        lastModified\n",
      "0                                  CodeBERTa-small-v1 (81)                                 CodeBERTa-small-v1 (127334)             time-series-transformer-tourism-monthly\n",
      "1                               CodeBERTa-language-id (62)                          autoformer-tourism-monthly (54089)                             timesfm-tourism-monthly\n",
      "2             time-series-transformer-tourism-monthly (22)                            informer-tourism-monthly (53973)                               CodeBERTa-language-id\n",
      "3                                     falcon-40b-gptq (12)                               CodeBERTa-language-id (51939)                                     falcon-40b-gptq\n",
      "4                           autoformer-tourism-monthly (9)  prunebert-base-uncased-6-finepruned-w-distil-squad (10429)                          autoformer-tourism-monthly\n",
      "5                             informer-tourism-monthly (6)              time-series-transformer-tourism-monthly (4781)              distilbert-base-uncased-finetuned-mnli\n",
      "6                                   the-no-branch-repo (5)                                          funnel-small (438)                            informer-tourism-monthly\n",
      "7   prunebert-base-uncased-6-finepruned-w-distil-squad (4)                distilbert-base-uncased-finetuned-mnli (358)                                  the-no-branch-repo\n",
      "8                                       gpt2-wikitext2 (3)                             bert-base-cased-wikitext2 (120)                                  CodeBERTa-small-v1\n",
      "9               distilbert-base-uncased-finetuned-mnli (2)                                         gpt2-wikitext2 (84)                                     test-model-repo\n",
      "10   prunebert-base-uncased-6-finepruned-w-distil-mnli (2)      prunebert-base-uncased-6-finepruned-w-distil-mnli (57)                           bert-base-cased-wikitext2\n",
      "11                             timesfm-tourism-monthly (2)                                      funnel-small-base (42)                                      gpt2-wikitext2\n",
      "12                           bert-base-cased-wikitext2 (1)                                        falcon-40b-gptq (36)  prunebert-base-uncased-6-finepruned-w-distil-squad\n",
      "13                                   funnel-small-base (1)                                     the-no-branch-repo (23)   prunebert-base-uncased-6-finepruned-w-distil-mnli\n",
      "14                                        funnel-small (1)                                timesfm-tourism-monthly (23)                                   funnel-small-base\n",
      "15                                     test-model-repo (1)                                         test-model-repo (0)                                        funnel-small\n"
     ]
    }
   ],
   "source": [
    "likes = [\n",
    "  f\"{x.id[len(txt_author.value)+1:]} ({x.likes})\"\n",
    "  for x in api.list_models(\n",
    "    author=txt_author.value,\n",
    "    sort=\"likes\"\n",
    "  )\n",
    "]\n",
    "\n",
    "downloads = [\n",
    "  f\"{x.id[len(txt_author.value)+1:]} ({x.downloads})\"\n",
    "  for x in api.list_models(\n",
    "    author=txt_author.value,\n",
    "    sort=\"downloads\"\n",
    "  )\n",
    "]\n",
    "\n",
    "lastModified = [\n",
    "  f\"{x.id[len(txt_author.value)+1:]}\"\n",
    "  for x in api.list_models(\n",
    "    author=txt_author.value,\n",
    "    sort=\"lastModified\"\n",
    "  )\n",
    "]\n",
    "\n",
    "df = pd.DataFrame(data={\n",
    "  \"likes\": likes,\n",
    "  \"downloads\": downloads,\n",
    "  \"lastModified\": lastModified,\n",
    "})\n",
    "\n",
    "print(df.head(250))"
   ]
  }
 ],
 "metadata": {
  "kernelspec": {
   "display_name": "base",
   "language": "python",
   "name": "python3"
  },
  "language_info": {
   "codemirror_mode": {
    "name": "ipython",
    "version": 3
   },
   "file_extension": ".py",
   "mimetype": "text/x-python",
   "name": "python",
   "nbconvert_exporter": "python",
   "pygments_lexer": "ipython3",
   "version": "3.12.9"
  }
 },
 "nbformat": 4,
 "nbformat_minor": 5
}

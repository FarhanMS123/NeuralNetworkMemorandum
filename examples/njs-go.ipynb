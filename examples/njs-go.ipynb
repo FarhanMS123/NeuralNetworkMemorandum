{
 "cells": [],
 "metadata": {
  "kernelspec": {
   "display_name": "JavaScript (Node.js)",
   "language": "javascript",
   "name": "javascript"
  },
  "language_info": {
   "name": "javascript"
  }
 },
 "nbformat": 4,
 "nbformat_minor": 5
}

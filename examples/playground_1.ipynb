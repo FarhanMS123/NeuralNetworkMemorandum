{
  "cells": [
    {
      "cell_type": "markdown",
      "metadata": {
        "colab_type": "text",
        "id": "view-in-github"
      },
      "source": [
        "<a href=\"https://colab.research.google.com/github/FarhanMS123/NeuralNetworkMemorandum/blob/main/examples/playground_1.ipynb\" target=\"_parent\"><img src=\"https://colab.research.google.com/assets/colab-badge.svg\" alt=\"Open In Colab\"/></a>"
      ]
    },
    {
      "cell_type": "markdown",
      "metadata": {
        "id": "m6ftexaln9QC"
      },
      "source": [
        "# Playground\n",
        "Just list and some documentation of libraries and how I want to use it\n",
        "- Kernel: https://docs.jupyter.org/en/latest/\n",
        "- IPython: https://ipython.readthedocs.io/en/stable/interactive/magics.html"
      ]
    },
    {
      "cell_type": "code",
      "execution_count": null,
      "metadata": {
        "id": "xMgGoAnznWZF"
      },
      "outputs": [],
      "source": [
        "# BuiltIn: IPython\n",
        "!pip install matplotlib numpy Pillow pandas\n",
        "\n",
        "!apt install libcairo2-dev pkg-config python3-dev\n",
        "!pip install pycairo"
      ]
    },
    {
      "cell_type": "code",
      "execution_count": 1,
      "metadata": {},
      "outputs": [
        {
          "data": {
            "image/png": "[encoded data removed]",
            "text/plain": [
              "<Figure size 600x300 with 12 Axes>"
            ]
          },
          "metadata": {},
          "output_type": "display_data"
        }
      ],
      "source": [
        "import matplotlib.pyplot as plt\n",
        "import matplotlib.gridspec as gridspec\n",
        "\n",
        "# --- Configuration ---\n",
        "# Colors (RGB values scaled to 0-1 for matplotlib)\n",
        "purple_color = (163/255, 73/255, 164/255) # RGB(163, 73, 164) from the image\n",
        "red_color    = (204/255, 0/255, 0/255)      # A strong red\n",
        "green_color  = (0/255, 128/255, 0/255)    # A standard green\n",
        "blue_color   = (0/255, 0/255, 204/255)     # A strong blue\n",
        "\n",
        "border_color = 'black'  # Color of the borders around subplots\n",
        "text_color   = 'white'  # Color of the numbers in the small squares\n",
        "figure_background_color = 'black' # To make gaps between subplots appear as black lines\n",
        "\n",
        "# Numbers for the smaller squares\n",
        "numbers = ['163', '73', '164'] * 3 # Repeat R, G, B sequence three times\n",
        "\n",
        "# Border thickness for subplot spines\n",
        "border_linewidth = 3 # Adjust for desired thickness\n",
        "\n",
        "# --- Create Figure and Main GridSpec ---\n",
        "# figsize controls the overall size of the plot\n",
        "# facecolor sets the background of the entire figure. If we want black \"gutters\",\n",
        "# this should be black.\n",
        "fig = plt.figure(figsize=(6, 3), facecolor=figure_background_color)\n",
        "\n",
        "# Define the main grid: 2 rows, 3 columns (for the top purple squares concept)\n",
        "# The bottom row will be further subdivided.\n",
        "# height_ratios makes the top row 2 times taller than the bottom row.\n",
        "# wspace and hspace are the width and height reserved for space between subplots.\n",
        "# If facecolor is black, these spaces will appear as black lines.\n",
        "gs_main = gridspec.GridSpec(2, 3, figure=fig, height_ratios=[2, 1],\n",
        "                            width_ratios=[1,1,1], # Ensure top columns are equal\n",
        "                            wspace=0.08, hspace=0.08) # Adjust for \"border\" thickness\n",
        "\n",
        "# --- Top Row: Purple Squares ---\n",
        "for i in range(3):\n",
        "    # Add a subplot to the first row, i-th column of the main grid\n",
        "    ax_top = fig.add_subplot(gs_main[0, i])\n",
        "    ax_top.set_facecolor(purple_color) # Set the background color of the subplot\n",
        "\n",
        "    # Remove ticks and labels\n",
        "    ax_top.tick_params(axis='both', which='both',\n",
        "                       bottom=False, top=False, left=False, right=False,\n",
        "                       labelbottom=False, labelleft=False)\n",
        "\n",
        "    # Style the spines (borders of the subplot)\n",
        "    for spine in ax_top.spines.values():\n",
        "        spine.set_edgecolor(border_color)\n",
        "        spine.set_linewidth(border_linewidth)\n",
        "        spine.set_visible(True) # Ensure spines are visible\n",
        "\n",
        "# --- Bottom Row: RGB Squares with Text ---\n",
        "# Create a nested GridSpec for the bottom row.\n",
        "# This gs_bottom spans all 3 columns of the main grid's second row (gs_main[1, :]).\n",
        "# It will contain 1 row and 9 columns for the small squares.\n",
        "gs_bottom = gridspec.GridSpecFromSubplotSpec(1, 9, subplot_spec=gs_main[1, :],\n",
        "                                             wspace=0.08, hspace=0.08) # Adjust for \"border\" thickness\n",
        "\n",
        "bottom_square_colors = [red_color, green_color, blue_color] * 3 # Cycle through R, G, B\n",
        "\n",
        "for i in range(9):\n",
        "    # Add a subplot to the nested grid\n",
        "    ax_bottom = fig.add_subplot(gs_bottom[0, i])\n",
        "    ax_bottom.set_facecolor(bottom_square_colors[i]) # Set background color\n",
        "\n",
        "    # Add the number text to the center of the subplot\n",
        "    ax_bottom.text(0.5, 0.5, numbers[i], color=text_color, fontsize=10,\n",
        "                   ha='center', va='center', fontweight='bold')\n",
        "\n",
        "    # Remove ticks and labels\n",
        "    ax_bottom.tick_params(axis='both', which='both',\n",
        "                          bottom=False, top=False, left=False, right=False,\n",
        "                          labelbottom=False, labelleft=False)\n",
        "\n",
        "    # Style the spines (borders)\n",
        "    for spine in ax_bottom.spines.values():\n",
        "        spine.set_edgecolor(border_color)\n",
        "        spine.set_linewidth(border_linewidth)\n",
        "        spine.set_visible(True) # Ensure spines are visible\n",
        "\n",
        "# Adjust overall layout to prevent overlap if necessary, though GridSpec's\n",
        "# wspace and hspace should handle it.\n",
        "# plt.tight_layout() # Often not needed or can interfere with GridSpec spacing\n",
        "\n",
        "plt.show()\n",
        "# End of Python script. The error reported (SyntaxError on line 87 with '```')\n",
        "# indicates that the Markdown code block terminator is being incorrectly\n",
        "# included as part of the Python code during execution.\n",
        "# Ensure only the Python code itself is run by the interpreter.\n"
      ]
    }
  ],
  "metadata": {
    "colab": {
      "authorship_tag": "ABX9TyOHdeDPgoJiNb47lhqrEXRW",
      "include_colab_link": true,
      "provenance": []
    },
    "kernelspec": {
      "display_name": "base",
      "language": "python",
      "name": "python3"
    },
    "language_info": {
      "codemirror_mode": {
        "name": "ipython",
        "version": 3
      },
      "file_extension": ".py",
      "mimetype": "text/x-python",
      "name": "python",
      "nbconvert_exporter": "python",
      "pygments_lexer": "ipython3",
      "version": "3.12.9"
    }
  },
  "nbformat": 4,
  "nbformat_minor": 0
}

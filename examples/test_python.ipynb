{
  "nbformat": 4,
  "nbformat_minor": 0,
  "metadata": {
    "colab": {
      "provenance": [],
      "authorship_tag": "ABX9TyN4R5BOBDwnDX6xJPlfPZUF",
      "include_colab_link": true
    },
    "kernelspec": {
      "name": "python3",
      "display_name": "Python 3"
    },
    "language_info": {
      "name": "python"
    }
  },
  "cells": [
    {
      "cell_type": "markdown",
      "metadata": {
        "id": "view-in-github",
        "colab_type": "text"
      },
      "source": [
        "<a href=\"https://colab.research.google.com/github/FarhanMS123/NeuralNetworkMemorandum/blob/main/examples/test_python.ipynb\" target=\"_parent\"><img src=\"https://colab.research.google.com/assets/colab-badge.svg\" alt=\"Open In Colab\"/></a>"
      ]
    },
    {
      "cell_type": "markdown",
      "source": [
        "# Basic Python\n",
        "Ref:\n",
        "- https://udemy.com/course/python-for-data-science-and-machine-learning-bootcamp"
      ],
      "metadata": {
        "id": "2FOsj5bViewT"
      }
    },
    {
      "cell_type": "code",
      "execution_count": 2,
      "metadata": {
        "id": "dFhmwKPUH_fS",
        "colab": {
          "base_uri": "https://localhost:8080/"
        },
        "outputId": "03a1733f-7d3a-48dc-8b21-ea2e259c2db1"
      },
      "outputs": [
        {
          "output_type": "stream",
          "name": "stdout",
          "text": [
            "[2, 3, 4, 5, 2, 3, 4, 5, 2, 3, 4, 5]\n",
            "[2, 3, 4, 5, 2]\n",
            "[ 6  9 12 15]\n"
          ]
        }
      ],
      "source": [
        "import numpy as np\n",
        "\n",
        "print([2,3,4,5] * 3)\n",
        "# print([2,3,4,5] * [3])\n",
        "# print([2,3,4,5] + 2)\n",
        "print([2,3,4,5] + [2])\n",
        "# print([2,3,4,5] / 3)\n",
        "# print([2,3,4,5] / [2,3,4,5])\n",
        "print(np.array([2,3,4,5]) * 3)"
      ]
    },
    {
      "cell_type": "code",
      "source": [
        "# print({2,3,3,3,2,2,3,4,5,4,4,4,5,5,5} + {7,7,7,7,2,2,2,3,3,3})\n",
        "# print({2,3,3,3,2,2,3,4,5,4,4,4,5,5,5} * 2)\n",
        "print(\"Hello\" == 'Hello')\n",
        "# print(False || True)\n",
        "print(False or True and True)"
      ],
      "metadata": {
        "colab": {
          "base_uri": "https://localhost:8080/"
        },
        "id": "fiZnCHwQIjDj",
        "outputId": "46db470b-33ca-4dbb-8856-255ab9a001ca"
      },
      "execution_count": 3,
      "outputs": [
        {
          "output_type": "stream",
          "name": "stdout",
          "text": [
            "True\n",
            "True\n"
          ]
        }
      ]
    },
    {
      "cell_type": "code",
      "source": [
        "seq = range(3,12)\n",
        "print(seq)\n",
        "print(list(seq))\n",
        "\n",
        "for x in seq:\n",
        "  print(x)\n",
        "\n",
        "list_comprehension = [x**2 for x in seq]\n",
        "print(list_comprehension)"
      ],
      "metadata": {
        "id": "dZqFxrvXhfEk",
        "outputId": "e119dc9d-3da3-4527-8c5f-580c0a4fb4e6",
        "colab": {
          "base_uri": "https://localhost:8080/"
        }
      },
      "execution_count": 4,
      "outputs": [
        {
          "output_type": "stream",
          "name": "stdout",
          "text": [
            "range(3, 12)\n",
            "[3, 4, 5, 6, 7, 8, 9, 10, 11]\n",
            "3\n",
            "4\n",
            "5\n",
            "6\n",
            "7\n",
            "8\n",
            "9\n",
            "10\n",
            "11\n",
            "[9, 16, 25, 36, 49, 64, 81, 100, 121]\n"
          ]
        }
      ]
    },
    {
      "cell_type": "code",
      "source": [
        "def square(x):\n",
        "  \"\"\"\n",
        "  This is DOCSTRING\n",
        "  Shift + Tab\n",
        "  Ctrl + Space\n",
        "  \"\"\"\n",
        "  return x**2\n",
        "\n",
        "square"
      ],
      "metadata": {
        "id": "acenDdPUi2mz",
        "outputId": "8ab6caa1-8f46-42cc-d98d-978fa4e3f746",
        "colab": {
          "base_uri": "https://localhost:8080/",
          "height": 139
        }
      },
      "execution_count": 5,
      "outputs": [
        {
          "output_type": "execute_result",
          "data": {
            "text/plain": [
              "<function __main__.square(x)>"
            ],
            "text/html": [
              "<div style=\"max-width:800px; border: 1px solid var(--colab-border-color);\"><style>\n",
              "      pre.function-repr-contents {\n",
              "        overflow-x: auto;\n",
              "        padding: 8px 12px;\n",
              "        max-height: 500px;\n",
              "      }\n",
              "\n",
              "      pre.function-repr-contents.function-repr-contents-collapsed {\n",
              "        cursor: pointer;\n",
              "        max-height: 100px;\n",
              "      }\n",
              "    </style>\n",
              "    <pre style=\"white-space: initial; background:\n",
              "         var(--colab-secondary-surface-color); padding: 8px 12px;\n",
              "         border-bottom: 1px solid var(--colab-border-color);\"><b>square</b><br/>def square(x)</pre><pre class=\"function-repr-contents function-repr-contents-collapsed\" style=\"\"><a class=\"filepath\" style=\"display:none\" href=\"#\">/content/&lt;ipython-input-5-fd57c3603c36&gt;</a>This is DOCSTRING\n",
              "Shift + Tab\n",
              "Ctrl + Space</pre></div>"
            ]
          },
          "metadata": {},
          "execution_count": 5
        }
      ]
    },
    {
      "cell_type": "code",
      "source": [
        "def square2(x):\n",
        "  return x**2\n",
        "square2"
      ],
      "metadata": {
        "id": "O8JznUI7k_Ou",
        "outputId": "87f0c693-d819-4cf2-d18f-c0e8b1c98fdb",
        "colab": {
          "base_uri": "https://localhost:8080/",
          "height": 104
        }
      },
      "execution_count": 6,
      "outputs": [
        {
          "output_type": "execute_result",
          "data": {
            "text/plain": [
              "<function __main__.square2(x)>"
            ],
            "text/html": [
              "<div style=\"max-width:800px; border: 1px solid var(--colab-border-color);\"><style>\n",
              "      pre.function-repr-contents {\n",
              "        overflow-x: auto;\n",
              "        padding: 8px 12px;\n",
              "        max-height: 500px;\n",
              "      }\n",
              "\n",
              "      pre.function-repr-contents.function-repr-contents-collapsed {\n",
              "        cursor: pointer;\n",
              "        max-height: 100px;\n",
              "      }\n",
              "    </style>\n",
              "    <pre style=\"white-space: initial; background:\n",
              "         var(--colab-secondary-surface-color); padding: 8px 12px;\n",
              "         border-bottom: 1px solid var(--colab-border-color);\"><b>square2</b><br/>def square2(x)</pre><pre class=\"function-repr-contents function-repr-contents-collapsed\" style=\"\"><a class=\"filepath\" style=\"display:none\" href=\"#\">/content/&lt;ipython-input-6-58d88f427afd&gt;</a>&lt;no docstring&gt;</pre></div>"
            ]
          },
          "metadata": {},
          "execution_count": 6
        }
      ]
    },
    {
      "cell_type": "code",
      "source": [
        "\"\"\"\n",
        "This is DOCSTRING\n",
        "Shift + Tab\n",
        "Ctrl + Space\n",
        "\"\"\"\n",
        "square = lambda x: x**2\n",
        "square"
      ],
      "metadata": {
        "id": "h1SFPniUj9aH",
        "outputId": "4f4da9a5-814f-4a66-d8fe-afd2621b6717",
        "colab": {
          "base_uri": "https://localhost:8080/"
        }
      },
      "execution_count": 7,
      "outputs": [
        {
          "output_type": "execute_result",
          "data": {
            "text/plain": [
              "<function __main__.<lambda>(x)>"
            ]
          },
          "metadata": {},
          "execution_count": 7
        }
      ]
    },
    {
      "cell_type": "code",
      "source": [
        "def abcd(): return 2**2\n",
        "print(abcd())\n",
        "print(2 in [1,2,3,4])\n",
        "\n",
        "for a,b in [(1,2),(3,4),(5,6)]:\n",
        "  print(b,a)"
      ],
      "metadata": {
        "id": "IAXv5WwXkL9T",
        "outputId": "65e033ac-231b-4cb9-d063-3dedfbc39f49",
        "colab": {
          "base_uri": "https://localhost:8080/"
        }
      },
      "execution_count": 8,
      "outputs": [
        {
          "output_type": "stream",
          "name": "stdout",
          "text": [
            "4\n",
            "True\n",
            "2 1\n",
            "4 3\n",
            "6 5\n"
          ]
        }
      ]
    },
    {
      "cell_type": "markdown",
      "source": [
        "# Test NumPy"
      ],
      "metadata": {
        "id": "pandgayvoHr_"
      }
    },
    {
      "cell_type": "code",
      "source": [
        "import numpy as np\n",
        "print(np.arange(2,12,1.1))\n",
        "print(np.zeros(4))\n",
        "print(np.ones(4))\n",
        "print(np.linspace(2,3,100))"
      ],
      "metadata": {
        "id": "EimG2rRmoLJD",
        "outputId": "ad8d0beb-7717-49ac-c0ae-54b2a91d92ec",
        "colab": {
          "base_uri": "https://localhost:8080/"
        }
      },
      "execution_count": 19,
      "outputs": [
        {
          "output_type": "stream",
          "name": "stdout",
          "text": [
            "[ 2.   3.1  4.2  5.3  6.4  7.5  8.6  9.7 10.8 11.9]\n",
            "[0. 0. 0. 0.]\n",
            "[1. 1. 1. 1.]\n",
            "[2.         2.01010101 2.02020202 2.03030303 2.04040404 2.05050505\n",
            " 2.06060606 2.07070707 2.08080808 2.09090909 2.1010101  2.11111111\n",
            " 2.12121212 2.13131313 2.14141414 2.15151515 2.16161616 2.17171717\n",
            " 2.18181818 2.19191919 2.2020202  2.21212121 2.22222222 2.23232323\n",
            " 2.24242424 2.25252525 2.26262626 2.27272727 2.28282828 2.29292929\n",
            " 2.3030303  2.31313131 2.32323232 2.33333333 2.34343434 2.35353535\n",
            " 2.36363636 2.37373737 2.38383838 2.39393939 2.4040404  2.41414141\n",
            " 2.42424242 2.43434343 2.44444444 2.45454545 2.46464646 2.47474747\n",
            " 2.48484848 2.49494949 2.50505051 2.51515152 2.52525253 2.53535354\n",
            " 2.54545455 2.55555556 2.56565657 2.57575758 2.58585859 2.5959596\n",
            " 2.60606061 2.61616162 2.62626263 2.63636364 2.64646465 2.65656566\n",
            " 2.66666667 2.67676768 2.68686869 2.6969697  2.70707071 2.71717172\n",
            " 2.72727273 2.73737374 2.74747475 2.75757576 2.76767677 2.77777778\n",
            " 2.78787879 2.7979798  2.80808081 2.81818182 2.82828283 2.83838384\n",
            " 2.84848485 2.85858586 2.86868687 2.87878788 2.88888889 2.8989899\n",
            " 2.90909091 2.91919192 2.92929293 2.93939394 2.94949495 2.95959596\n",
            " 2.96969697 2.97979798 2.98989899 3.        ]\n"
          ]
        }
      ]
    },
    {
      "cell_type": "code",
      "source": [
        "c = np.random.randn(2,3,4)\n",
        "print(c)\n",
        "print(c.max())\n",
        "print(c.argmax())\n",
        "print(c[8])"
      ],
      "metadata": {
        "id": "EAAeP11Do3u1",
        "outputId": "20a80a26-f9cd-47fb-92ba-a01ac87cc34f",
        "colab": {
          "base_uri": "https://localhost:8080/"
        }
      },
      "execution_count": 23,
      "outputs": [
        {
          "output_type": "stream",
          "name": "stdout",
          "text": [
            "[[[-0.27519263 -0.90281689 -0.83661485  0.57140059]\n",
            "  [ 1.79975154  2.02040544 -0.40077441 -0.19948516]\n",
            "  [ 1.54521215 -0.16634643  0.10123841 -0.97421869]]\n",
            "\n",
            " [[ 0.14952664 -1.24584564  0.67562763 -1.6009643 ]\n",
            "  [-2.10873066  0.26708976 -0.71231891  0.7773374 ]\n",
            "  [ 0.44693066 -0.06728871  1.22701707  0.12082278]]]\n",
            "2.0204054429439977\n",
            "5\n"
          ]
        }
      ]
    },
    {
      "cell_type": "code",
      "source": [
        "d = np.array([1,2,3,4,5])\n",
        "# d.reshape(3,3)"
      ],
      "metadata": {
        "id": "5FWAXA9tq69S"
      },
      "execution_count": 25,
      "outputs": []
    },
    {
      "cell_type": "code",
      "source": [
        "c = list(range(0,20))\n",
        "d = np.arange(0, 20)\n",
        "print(c)\n",
        "print(d)\n",
        "print(d[7:18])\n",
        "print(c[7:18])\n",
        "# a = 3:12\n",
        "# print(3:12)"
      ],
      "metadata": {
        "id": "3s5-F8zmrxq3",
        "outputId": "572f3118-aad9-47e4-c248-50bccd7bb370",
        "colab": {
          "base_uri": "https://localhost:8080/"
        }
      },
      "execution_count": 38,
      "outputs": [
        {
          "output_type": "stream",
          "name": "stdout",
          "text": [
            "[0, 1, 2, 3, 4, 5, 6, 7, 8, 9, 10, 11, 12, 13, 14, 15, 16, 17, 18, 19]\n",
            "[ 0  1  2  3  4  5  6  7  8  9 10 11 12 13 14 15 16 17 18 19]\n",
            "[ 7  8  9 10 11 12 13 14 15 16 17]\n",
            "[7, 8, 9, 10, 11, 12, 13, 14, 15, 16, 17]\n"
          ]
        }
      ]
    },
    {
      "cell_type": "code",
      "source": [
        "c = [\n",
        "  list(range(3+(x*x), 8+(x*x))) for x in range(2,11)\n",
        "]\n",
        "\n",
        "print(c)\n",
        "print(c[2:4])\n",
        "# print(c[2][2,3])\n",
        "# print(c[2:4][0,1])\n",
        "print(c[3:6])\n",
        "\n",
        "print(\"=====\")\n",
        "\n",
        "d = np.random.randint(7,52256, (4,4))\n",
        "print(d)\n",
        "print(d[2:4, 0:3])\n",
        "print(d[1,2])\n",
        "print(d[2:4][1,0])\n",
        "\n",
        "print(\"====\")\n",
        "# print([2,3,4,5,6,7,8,9,10] < 6)\n",
        "print(np.array([2,3,4,5,6,7,8,9,10]) < 6)"
      ],
      "metadata": {
        "id": "fxON6MqbtA5D",
        "outputId": "2ac9be93-91bd-47ef-f875-6030b0e8b29f",
        "colab": {
          "base_uri": "https://localhost:8080/"
        }
      },
      "execution_count": 93,
      "outputs": [
        {
          "output_type": "stream",
          "name": "stdout",
          "text": [
            "[[7, 8, 9, 10, 11], [12, 13, 14, 15, 16], [19, 20, 21, 22, 23], [28, 29, 30, 31, 32], [39, 40, 41, 42, 43], [52, 53, 54, 55, 56], [67, 68, 69, 70, 71], [84, 85, 86, 87, 88], [103, 104, 105, 106, 107]]\n",
            "[[19, 20, 21, 22, 23], [28, 29, 30, 31, 32]]\n",
            "[[28, 29, 30, 31, 32], [39, 40, 41, 42, 43], [52, 53, 54, 55, 56]]\n",
            "=====\n",
            "[[ 9043 45233 17255 42643]\n",
            " [27020 24453 38699 45713]\n",
            " [ 5627 35316 34742 21695]\n",
            " [16194 47420 22268 18613]]\n",
            "[[ 5627 35316 34742]\n",
            " [16194 47420 22268]]\n",
            "38699\n",
            "16194\n",
            "====\n",
            "[ True  True  True  True False False False False False]\n"
          ]
        }
      ]
    }
  ]
}
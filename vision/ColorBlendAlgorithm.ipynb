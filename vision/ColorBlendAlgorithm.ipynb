{
 "cells": [
  {
   "cell_type": "markdown",
   "id": "bcb086e5-fc31-425b-bed2-6d6f83501509",
   "metadata": {},
   "source": [
    "# Color Blend Algorithm"
   ]
  },
  {
   "cell_type": "code",
   "execution_count": null,
   "id": "16e8fd89-b647-4bc7-8b1b-5fd43bfa18ef",
   "metadata": {},
   "outputs": [],
   "source": []
  }
 ],
 "metadata": {
  "kernelspec": {
   "display_name": "Python 3 (ipykernel)",
   "language": "python",
   "name": "python3"
  },
  "language_info": {
   "codemirror_mode": {
    "name": "ipython",
    "version": 3
   },
   "file_extension": ".py",
   "mimetype": "text/x-python",
   "name": "python",
   "nbconvert_exporter": "python",
   "pygments_lexer": "ipython3",
   "version": "3.12.1"
  }
 },
 "nbformat": 4,
 "nbformat_minor": 5
}

{
 "cells": [
  {
   "cell_type": "markdown",
   "metadata": {},
   "source": [
    "# Machine Learning\n",
    "- http://faculty.marshall.usc.edu/gareth-james/ISL/\n",
    "- https://www.statlearning.com/\n",
    "- https://github.com/JWarmenhoven/ISLR-python\n",
    "- introduction statistical learning type:pdf"
   ]
  }
 ],
 "metadata": {
  "language_info": {
   "name": "python"
  }
 },
 "nbformat": 4,
 "nbformat_minor": 2
}
